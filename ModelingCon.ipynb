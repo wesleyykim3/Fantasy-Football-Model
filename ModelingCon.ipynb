{
 "cells": [
  {
   "cell_type": "code",
   "execution_count": 1,
   "id": "61d3fdf2-ea1e-47cb-8145-44cbfab37b45",
   "metadata": {
    "tags": []
   },
   "outputs": [],
   "source": [
    "import numpy as np\n",
    "import pandas as pd\n",
    "import matplotlib.pyplot as plt\n",
    "import seaborn as sns\n",
    "import sqlite3\n",
    "import torch"
   ]
  },
  {
   "cell_type": "code",
   "execution_count": 2,
   "id": "31388cf9-60c2-4d45-8ebd-f5603e01e61e",
   "metadata": {
    "tags": []
   },
   "outputs": [],
   "source": [
    "conn = sqlite3.connect('fantasy_football_data.db')"
   ]
  },
  {
   "cell_type": "code",
   "execution_count": 3,
   "id": "24f60de9-6d2e-4e71-b044-5c39628d4e8d",
   "metadata": {
    "tags": []
   },
   "outputs": [
    {
     "data": {
      "text/html": [
       "<div>\n",
       "<style scoped>\n",
       "    .dataframe tbody tr th:only-of-type {\n",
       "        vertical-align: middle;\n",
       "    }\n",
       "\n",
       "    .dataframe tbody tr th {\n",
       "        vertical-align: top;\n",
       "    }\n",
       "\n",
       "    .dataframe thead th {\n",
       "        text-align: right;\n",
       "    }\n",
       "</style>\n",
       "<table border=\"1\" class=\"dataframe\">\n",
       "  <thead>\n",
       "    <tr style=\"text-align: right;\">\n",
       "      <th></th>\n",
       "      <th>Player</th>\n",
       "      <th>Year</th>\n",
       "      <th>Tm</th>\n",
       "      <th>FantPos</th>\n",
       "      <th>Age</th>\n",
       "      <th>G</th>\n",
       "      <th>GS</th>\n",
       "      <th>GS/G</th>\n",
       "      <th>Cmp/G</th>\n",
       "      <th>Pass_Att/G</th>\n",
       "      <th>...</th>\n",
       "      <th>Rec_Yds/G</th>\n",
       "      <th>Y/R</th>\n",
       "      <th>Rec_TD/G</th>\n",
       "      <th>Fmb/G</th>\n",
       "      <th>FL/G</th>\n",
       "      <th>Tot_TD/G</th>\n",
       "      <th>PPR/G</th>\n",
       "      <th>PPR</th>\n",
       "      <th>Tm_Last_Yr</th>\n",
       "      <th>Changed_Teams</th>\n",
       "    </tr>\n",
       "  </thead>\n",
       "  <tbody>\n",
       "    <tr>\n",
       "      <th>1</th>\n",
       "      <td>A.J. Brown</td>\n",
       "      <td>2020</td>\n",
       "      <td>TEN</td>\n",
       "      <td>WR</td>\n",
       "      <td>23.0</td>\n",
       "      <td>16.0</td>\n",
       "      <td>11.0</td>\n",
       "      <td>0.687500</td>\n",
       "      <td>0.0</td>\n",
       "      <td>0.000000</td>\n",
       "      <td>...</td>\n",
       "      <td>65.687500</td>\n",
       "      <td>20.21</td>\n",
       "      <td>0.500000</td>\n",
       "      <td>0.062500</td>\n",
       "      <td>0.000000</td>\n",
       "      <td>0.562500</td>\n",
       "      <td>17.678571</td>\n",
       "      <td>247.5</td>\n",
       "      <td>TEN</td>\n",
       "      <td>0</td>\n",
       "    </tr>\n",
       "    <tr>\n",
       "      <th>2</th>\n",
       "      <td>A.J. Brown</td>\n",
       "      <td>2021</td>\n",
       "      <td>TEN</td>\n",
       "      <td>WR</td>\n",
       "      <td>24.0</td>\n",
       "      <td>30.0</td>\n",
       "      <td>23.0</td>\n",
       "      <td>0.766667</td>\n",
       "      <td>0.0</td>\n",
       "      <td>0.000000</td>\n",
       "      <td>...</td>\n",
       "      <td>70.866667</td>\n",
       "      <td>35.57</td>\n",
       "      <td>0.633333</td>\n",
       "      <td>0.100000</td>\n",
       "      <td>0.033333</td>\n",
       "      <td>0.700000</td>\n",
       "      <td>13.915385</td>\n",
       "      <td>180.9</td>\n",
       "      <td>TEN</td>\n",
       "      <td>0</td>\n",
       "    </tr>\n",
       "    <tr>\n",
       "      <th>3</th>\n",
       "      <td>A.J. Brown</td>\n",
       "      <td>2022</td>\n",
       "      <td>PHI</td>\n",
       "      <td>WR</td>\n",
       "      <td>25.0</td>\n",
       "      <td>27.0</td>\n",
       "      <td>25.0</td>\n",
       "      <td>0.925926</td>\n",
       "      <td>0.0</td>\n",
       "      <td>0.074074</td>\n",
       "      <td>...</td>\n",
       "      <td>72.000000</td>\n",
       "      <td>29.15</td>\n",
       "      <td>0.592593</td>\n",
       "      <td>0.074074</td>\n",
       "      <td>0.037037</td>\n",
       "      <td>0.629630</td>\n",
       "      <td>17.623529</td>\n",
       "      <td>299.6</td>\n",
       "      <td>TEN</td>\n",
       "      <td>1</td>\n",
       "    </tr>\n",
       "    <tr>\n",
       "      <th>4</th>\n",
       "      <td>A.J. Brown</td>\n",
       "      <td>2023</td>\n",
       "      <td>PHI</td>\n",
       "      <td>WR</td>\n",
       "      <td>26.0</td>\n",
       "      <td>30.0</td>\n",
       "      <td>29.0</td>\n",
       "      <td>0.966667</td>\n",
       "      <td>0.0</td>\n",
       "      <td>0.066667</td>\n",
       "      <td>...</td>\n",
       "      <td>78.833333</td>\n",
       "      <td>30.79</td>\n",
       "      <td>0.533333</td>\n",
       "      <td>0.066667</td>\n",
       "      <td>0.066667</td>\n",
       "      <td>0.533333</td>\n",
       "      <td>17.035294</td>\n",
       "      <td>289.6</td>\n",
       "      <td>PHI</td>\n",
       "      <td>0</td>\n",
       "    </tr>\n",
       "    <tr>\n",
       "      <th>5</th>\n",
       "      <td>A.J. Brown</td>\n",
       "      <td>2024</td>\n",
       "      <td>PHI</td>\n",
       "      <td>WR</td>\n",
       "      <td>27.0</td>\n",
       "      <td>34.0</td>\n",
       "      <td>33.0</td>\n",
       "      <td>0.970588</td>\n",
       "      <td>0.0</td>\n",
       "      <td>0.000000</td>\n",
       "      <td>...</td>\n",
       "      <td>86.823529</td>\n",
       "      <td>30.74</td>\n",
       "      <td>0.529412</td>\n",
       "      <td>0.117647</td>\n",
       "      <td>0.117647</td>\n",
       "      <td>0.529412</td>\n",
       "      <td>0.000000</td>\n",
       "      <td>NaN</td>\n",
       "      <td>PHI</td>\n",
       "      <td>0</td>\n",
       "    </tr>\n",
       "  </tbody>\n",
       "</table>\n",
       "<p>5 rows × 29 columns</p>\n",
       "</div>"
      ],
      "text/plain": [
       "       Player  Year   Tm FantPos   Age     G    GS      GS/G  Cmp/G  \\\n",
       "1  A.J. Brown  2020  TEN      WR  23.0  16.0  11.0  0.687500    0.0   \n",
       "2  A.J. Brown  2021  TEN      WR  24.0  30.0  23.0  0.766667    0.0   \n",
       "3  A.J. Brown  2022  PHI      WR  25.0  27.0  25.0  0.925926    0.0   \n",
       "4  A.J. Brown  2023  PHI      WR  26.0  30.0  29.0  0.966667    0.0   \n",
       "5  A.J. Brown  2024  PHI      WR  27.0  34.0  33.0  0.970588    0.0   \n",
       "\n",
       "   Pass_Att/G  ...  Rec_Yds/G    Y/R  Rec_TD/G     Fmb/G      FL/G  Tot_TD/G  \\\n",
       "1    0.000000  ...  65.687500  20.21  0.500000  0.062500  0.000000  0.562500   \n",
       "2    0.000000  ...  70.866667  35.57  0.633333  0.100000  0.033333  0.700000   \n",
       "3    0.074074  ...  72.000000  29.15  0.592593  0.074074  0.037037  0.629630   \n",
       "4    0.066667  ...  78.833333  30.79  0.533333  0.066667  0.066667  0.533333   \n",
       "5    0.000000  ...  86.823529  30.74  0.529412  0.117647  0.117647  0.529412   \n",
       "\n",
       "       PPR/G    PPR  Tm_Last_Yr  Changed_Teams  \n",
       "1  17.678571  247.5         TEN              0  \n",
       "2  13.915385  180.9         TEN              0  \n",
       "3  17.623529  299.6         TEN              1  \n",
       "4  17.035294  289.6         PHI              0  \n",
       "5   0.000000    NaN         PHI              0  \n",
       "\n",
       "[5 rows x 29 columns]"
      ]
     },
     "execution_count": 3,
     "metadata": {},
     "output_type": "execute_result"
    }
   ],
   "source": [
    "# query to get average stats per game over last 2 years\n",
    "# I tested both 3 years and 2 years of stats and 2 years performed better so that's why I switched to 2 years\n",
    "player_stats_pg = pd.read_sql('''\n",
    "    WITH sum_stats AS (\n",
    "        SELECT \n",
    "            Player, Year, Tm, FantPos, Age, \n",
    "            SUM(G) OVER (PARTITION BY Player ORDER BY Year ROWS BETWEEN 2 PRECEDING AND 1 PRECEDING) AS \"G\",\n",
    "            SUM(GS) OVER (PARTITION BY Player ORDER BY Year ROWS BETWEEN 2 PRECEDING AND 1 PRECEDING) AS \"GS\",\n",
    "            SUM(Cmp) OVER (PARTITION BY Player ORDER BY Year ROWS BETWEEN 2 PRECEDING AND 1 PRECEDING) AS \"Cmp\",\n",
    "            SUM(Pass_Att) OVER (PARTITION BY Player ORDER BY Year ROWS BETWEEN 2 PRECEDING AND 1 PRECEDING) AS \"Pass_Att\",\n",
    "            SUM(Pass_Yds) OVER (PARTITION BY Player ORDER BY Year ROWS BETWEEN 2 PRECEDING AND 1 PRECEDING) AS \"Pass_Yds\",\n",
    "            SUM(Pass_TD) OVER (PARTITION BY Player ORDER BY Year ROWS BETWEEN 2 PRECEDING AND 1 PRECEDING) AS \"Pass_TD\",\n",
    "            SUM(Int) OVER (PARTITION BY Player ORDER BY Year ROWS BETWEEN 2 PRECEDING AND 1 PRECEDING) AS \"Int\",\n",
    "            SUM(Rush_Att) OVER (PARTITION BY Player ORDER BY Year ROWS BETWEEN 2 PRECEDING AND 1 PRECEDING) AS \"Rush_Att\",\n",
    "            SUM(Rush_Yds) OVER (PARTITION BY Player ORDER BY Year ROWS BETWEEN 2 PRECEDING AND 1 PRECEDING) AS \"Rush_Yds\",\n",
    "            SUM(\"Y/A\") OVER (PARTITION BY Player ORDER BY Year ROWS BETWEEN 2 PRECEDING AND 1 PRECEDING) AS \"Y/A\",\n",
    "            SUM(Rush_TD) OVER (PARTITION BY Player ORDER BY Year ROWS BETWEEN 2 PRECEDING AND 1 PRECEDING) AS \"Rush_TD\",\n",
    "            SUM(Tgt) OVER (PARTITION BY Player ORDER BY Year ROWS BETWEEN 2 PRECEDING AND 1 PRECEDING) AS \"Tgt\",\n",
    "            SUM(Rec) OVER (PARTITION BY Player ORDER BY Year ROWS BETWEEN 2 PRECEDING AND 1 PRECEDING) AS \"Rec\",\n",
    "            SUM(Rec_Yds) OVER (PARTITION BY Player ORDER BY Year ROWS BETWEEN 2 PRECEDING AND 1 PRECEDING) AS \"Rec_Yds\",\n",
    "            SUM(\"Y/R\") OVER (PARTITION BY Player ORDER BY Year ROWS BETWEEN 2 PRECEDING AND 1 PRECEDING) AS \"Y/R\",\n",
    "            SUM(Rec_TD) OVER (PARTITION BY Player ORDER BY Year ROWS BETWEEN 2 PRECEDING AND 1 PRECEDING) AS \"Rec_TD\",\n",
    "            SUM(Fmb) OVER (PARTITION BY Player ORDER BY Year ROWS BETWEEN 2 PRECEDING AND 1 PRECEDING) AS \"Fmb\",\n",
    "            SUM(FL) OVER (PARTITION BY Player ORDER BY Year ROWS BETWEEN 2 PRECEDING AND 1 PRECEDING) AS \"FL\",\n",
    "            SUM(Tot_TD) OVER (PARTITION BY Player ORDER BY Year ROWS BETWEEN 2 PRECEDING AND 1 PRECEDING) AS \"Tot_TD\",\n",
    "            PPR/G,\n",
    "            PPR,\n",
    "            LAG(Tm, 1) OVER (PARTITION BY Player ORDER BY Year) AS Tm_Last_Yr\n",
    "        FROM\n",
    "            player_stats)\n",
    "        \n",
    "    SELECT\n",
    "        Player, Year, Tm, FantPos, Age, G, GS, GS/G, Cmp/G, Pass_Att/G, Pass_Yds/G, Pass_TD/G, Int/G, Rush_Att/G, Rush_Yds/G, \"Y/A\",\n",
    "        Rush_TD/G, Tgt/G, Rec/G, Rec_Yds/G, \"Y/R\", Rec_TD/G, Fmb/G, FL/G, Tot_TD/G, \"PPR/G\", PPR, Tm_Last_Yr\n",
    "    FROM\n",
    "        sum_stats\n",
    "        '''\n",
    ", conn)\n",
    "player_stats_pg['Changed_Teams'] = np.where(player_stats_pg['Tm'] != player_stats_pg['Tm_Last_Yr'], 1, 0)\n",
    "player_stats_pg['PPR/G'].fillna(0, inplace=True)\n",
    "player_stats_pg['GS/G'] = player_stats_pg['GS']/player_stats_pg['G']\n",
    "player_stats_pg.query('Year > 2016', inplace=True)\n",
    "\n",
    "rookies = player_stats_pg[player_stats_pg['G'].isnull()] # saving rookies for later\n",
    "player_stats_pg.dropna(subset=['G'], inplace=True)\n",
    "\n",
    "player_stats_pg_2024 = player_stats_pg[player_stats_pg['Year']==2024] # saving 2024 stats for final predictions\n",
    "\n",
    "player_stats_pg.head()"
   ]
  },
  {
   "cell_type": "code",
   "execution_count": 4,
   "id": "d5d99e47-2cce-469d-ad59-13e6daf4d151",
   "metadata": {
    "tags": []
   },
   "outputs": [],
   "source": [
    "# splitting by position\n",
    "# even though before this didn't seem to make much of a difference, so I'm going to still try it\n",
    "qb_stats_pg = player_stats_pg[player_stats_pg['FantPos']=='QB'].dropna().reset_index(drop=True) # dropna drops 2024 data\n",
    "wr_stats_pg = player_stats_pg[player_stats_pg['FantPos']=='WR'].dropna().reset_index(drop=True)\n",
    "rb_stats_pg = player_stats_pg[player_stats_pg['FantPos']=='RB'].dropna().reset_index(drop=True)\n",
    "te_stats_pg = player_stats_pg[player_stats_pg['FantPos']=='TE'].dropna().reset_index(drop=True)"
   ]
  },
  {
   "cell_type": "code",
   "execution_count": 5,
   "id": "6e4ed9e0-3c7b-4d58-9894-faf728876d41",
   "metadata": {
    "tags": []
   },
   "outputs": [
    {
     "data": {
      "text/html": [
       "<div>\n",
       "<style scoped>\n",
       "    .dataframe tbody tr th:only-of-type {\n",
       "        vertical-align: middle;\n",
       "    }\n",
       "\n",
       "    .dataframe tbody tr th {\n",
       "        vertical-align: top;\n",
       "    }\n",
       "\n",
       "    .dataframe thead th {\n",
       "        text-align: right;\n",
       "    }\n",
       "</style>\n",
       "<table border=\"1\" class=\"dataframe\">\n",
       "  <thead>\n",
       "    <tr style=\"text-align: right;\">\n",
       "      <th></th>\n",
       "      <th>Player</th>\n",
       "      <th>Year</th>\n",
       "      <th>Tm</th>\n",
       "      <th>FantPos</th>\n",
       "      <th>Age</th>\n",
       "      <th>G</th>\n",
       "      <th>GS</th>\n",
       "      <th>GS/G</th>\n",
       "      <th>Cmp/G</th>\n",
       "      <th>Pass_Att/G</th>\n",
       "      <th>...</th>\n",
       "      <th>Rec_Yds/G</th>\n",
       "      <th>Y/R</th>\n",
       "      <th>Rec_TD/G</th>\n",
       "      <th>Fmb/G</th>\n",
       "      <th>FL/G</th>\n",
       "      <th>Tot_TD/G</th>\n",
       "      <th>PPR/G</th>\n",
       "      <th>PPR</th>\n",
       "      <th>Tm_Last_Yr</th>\n",
       "      <th>Changed_Teams</th>\n",
       "    </tr>\n",
       "  </thead>\n",
       "  <tbody>\n",
       "    <tr>\n",
       "      <th>0</th>\n",
       "      <td>A.J. McCarron</td>\n",
       "      <td>2017</td>\n",
       "      <td>CIN</td>\n",
       "      <td>QB</td>\n",
       "      <td>27.0</td>\n",
       "      <td>8.0</td>\n",
       "      <td>3.0</td>\n",
       "      <td>0.375</td>\n",
       "      <td>9.875</td>\n",
       "      <td>14.875</td>\n",
       "      <td>...</td>\n",
       "      <td>0.0</td>\n",
       "      <td>0.0</td>\n",
       "      <td>0.0</td>\n",
       "      <td>0.125</td>\n",
       "      <td>0.125</td>\n",
       "      <td>0.00</td>\n",
       "      <td>0.866667</td>\n",
       "      <td>2.6</td>\n",
       "      <td>CIN</td>\n",
       "      <td>0</td>\n",
       "    </tr>\n",
       "    <tr>\n",
       "      <th>1</th>\n",
       "      <td>A.J. McCarron</td>\n",
       "      <td>2018</td>\n",
       "      <td>OAK</td>\n",
       "      <td>QB</td>\n",
       "      <td>28.0</td>\n",
       "      <td>4.0</td>\n",
       "      <td>0.0</td>\n",
       "      <td>0.000</td>\n",
       "      <td>1.750</td>\n",
       "      <td>3.500</td>\n",
       "      <td>...</td>\n",
       "      <td>0.0</td>\n",
       "      <td>0.0</td>\n",
       "      <td>0.0</td>\n",
       "      <td>0.000</td>\n",
       "      <td>0.000</td>\n",
       "      <td>0.00</td>\n",
       "      <td>0.050000</td>\n",
       "      <td>0.1</td>\n",
       "      <td>CIN</td>\n",
       "      <td>1</td>\n",
       "    </tr>\n",
       "    <tr>\n",
       "      <th>2</th>\n",
       "      <td>A.J. McCarron</td>\n",
       "      <td>2019</td>\n",
       "      <td>HOU</td>\n",
       "      <td>QB</td>\n",
       "      <td>29.0</td>\n",
       "      <td>5.0</td>\n",
       "      <td>0.0</td>\n",
       "      <td>0.000</td>\n",
       "      <td>1.600</td>\n",
       "      <td>3.400</td>\n",
       "      <td>...</td>\n",
       "      <td>0.0</td>\n",
       "      <td>0.0</td>\n",
       "      <td>0.0</td>\n",
       "      <td>0.200</td>\n",
       "      <td>0.000</td>\n",
       "      <td>0.00</td>\n",
       "      <td>8.450000</td>\n",
       "      <td>16.9</td>\n",
       "      <td>OAK</td>\n",
       "      <td>1</td>\n",
       "    </tr>\n",
       "    <tr>\n",
       "      <th>3</th>\n",
       "      <td>A.J. McCarron</td>\n",
       "      <td>2020</td>\n",
       "      <td>HOU</td>\n",
       "      <td>QB</td>\n",
       "      <td>30.0</td>\n",
       "      <td>4.0</td>\n",
       "      <td>1.0</td>\n",
       "      <td>0.250</td>\n",
       "      <td>5.500</td>\n",
       "      <td>10.000</td>\n",
       "      <td>...</td>\n",
       "      <td>0.0</td>\n",
       "      <td>0.0</td>\n",
       "      <td>0.0</td>\n",
       "      <td>0.250</td>\n",
       "      <td>0.000</td>\n",
       "      <td>0.25</td>\n",
       "      <td>0.400000</td>\n",
       "      <td>0.8</td>\n",
       "      <td>HOU</td>\n",
       "      <td>0</td>\n",
       "    </tr>\n",
       "    <tr>\n",
       "      <th>4</th>\n",
       "      <td>A.J. McCarron</td>\n",
       "      <td>2023</td>\n",
       "      <td>CIN</td>\n",
       "      <td>QB</td>\n",
       "      <td>33.0</td>\n",
       "      <td>4.0</td>\n",
       "      <td>1.0</td>\n",
       "      <td>0.250</td>\n",
       "      <td>5.500</td>\n",
       "      <td>9.500</td>\n",
       "      <td>...</td>\n",
       "      <td>0.0</td>\n",
       "      <td>0.0</td>\n",
       "      <td>0.0</td>\n",
       "      <td>0.000</td>\n",
       "      <td>0.000</td>\n",
       "      <td>0.25</td>\n",
       "      <td>0.400000</td>\n",
       "      <td>0.8</td>\n",
       "      <td>HOU</td>\n",
       "      <td>1</td>\n",
       "    </tr>\n",
       "  </tbody>\n",
       "</table>\n",
       "<p>5 rows × 29 columns</p>\n",
       "</div>"
      ],
      "text/plain": [
       "          Player  Year   Tm FantPos   Age    G   GS   GS/G  Cmp/G  Pass_Att/G  \\\n",
       "0  A.J. McCarron  2017  CIN      QB  27.0  8.0  3.0  0.375  9.875      14.875   \n",
       "1  A.J. McCarron  2018  OAK      QB  28.0  4.0  0.0  0.000  1.750       3.500   \n",
       "2  A.J. McCarron  2019  HOU      QB  29.0  5.0  0.0  0.000  1.600       3.400   \n",
       "3  A.J. McCarron  2020  HOU      QB  30.0  4.0  1.0  0.250  5.500      10.000   \n",
       "4  A.J. McCarron  2023  CIN      QB  33.0  4.0  1.0  0.250  5.500       9.500   \n",
       "\n",
       "   ...  Rec_Yds/G  Y/R  Rec_TD/G  Fmb/G   FL/G  Tot_TD/G     PPR/G   PPR  \\\n",
       "0  ...        0.0  0.0       0.0  0.125  0.125      0.00  0.866667   2.6   \n",
       "1  ...        0.0  0.0       0.0  0.000  0.000      0.00  0.050000   0.1   \n",
       "2  ...        0.0  0.0       0.0  0.200  0.000      0.00  8.450000  16.9   \n",
       "3  ...        0.0  0.0       0.0  0.250  0.000      0.25  0.400000   0.8   \n",
       "4  ...        0.0  0.0       0.0  0.000  0.000      0.25  0.400000   0.8   \n",
       "\n",
       "   Tm_Last_Yr  Changed_Teams  \n",
       "0         CIN              0  \n",
       "1         CIN              1  \n",
       "2         OAK              1  \n",
       "3         HOU              0  \n",
       "4         HOU              1  \n",
       "\n",
       "[5 rows x 29 columns]"
      ]
     },
     "execution_count": 5,
     "metadata": {},
     "output_type": "execute_result"
    }
   ],
   "source": [
    "qb_stats_pg.head()"
   ]
  },
  {
   "cell_type": "code",
   "execution_count": 6,
   "id": "43529f74-5d34-4ced-bd79-50ad38e3557d",
   "metadata": {
    "tags": []
   },
   "outputs": [
    {
     "data": {
      "text/plain": [
       "PPR/G            1.000000\n",
       "PPR              0.878407\n",
       "Pass_TD/G        0.618939\n",
       "GS               0.618009\n",
       "Pass_Yds/G       0.595282\n",
       "G                0.576521\n",
       "Cmp/G            0.561965\n",
       "GS/G             0.557919\n",
       "Pass_Att/G       0.544045\n",
       "Rush_Att/G       0.451839\n",
       "Rush_Yds/G       0.380412\n",
       "Rush_TD/G        0.363639\n",
       "Tot_TD/G         0.357026\n",
       "Fmb/G            0.317349\n",
       "Y/A              0.247419\n",
       "FL/G             0.218502\n",
       "Int/G            0.210047\n",
       "Y/R              0.068179\n",
       "Rec_TD/G        -0.020003\n",
       "Age             -0.031431\n",
       "Tgt/G           -0.039316\n",
       "Rec/G           -0.044036\n",
       "Rec_Yds/G       -0.046480\n",
       "Changed_Teams   -0.331969\n",
       "Name: PPR/G, dtype: float64"
      ]
     },
     "execution_count": 6,
     "metadata": {},
     "output_type": "execute_result"
    }
   ],
   "source": [
    "corr_mat = qb_stats_pg.dropna().drop(['Player', 'Year', 'Tm', 'FantPos', 'Tm_Last_Yr'], axis=1).corr()\n",
    "corr_mat['PPR/G'].sort_values(ascending=False)\n",
    "# much better correlation scores than when the stats weren't per game"
   ]
  },
  {
   "cell_type": "code",
   "execution_count": 7,
   "id": "ea55862d-bd5b-45db-a9f3-c013e4ba284c",
   "metadata": {
    "tags": []
   },
   "outputs": [],
   "source": [
    "from sklearn.preprocessing import StandardScaler"
   ]
  },
  {
   "cell_type": "code",
   "execution_count": 8,
   "id": "78cab1d1-2c44-4d71-af96-d5c258783d69",
   "metadata": {
    "tags": []
   },
   "outputs": [],
   "source": [
    "# qb features\n",
    "qb_features_pg = qb_stats_pg[['Year', 'GS/G', 'Cmp/G', 'Pass_Att/G', 'Pass_Yds/G', 'Pass_TD/G', 'Int/G', 'Rush_Att/G', 'Rush_Yds/G', 'Rush_TD/G', 'Changed_Teams']]\n",
    "qb_info_pg = qb_stats_pg[['Player', 'Year', 'Tm', 'FantPos', 'Age']]\n",
    "qb_PPR_pg = qb_stats_pg[['Year','PPR/G']]\n",
    "\n",
    "# scaling the data\n",
    "scaler_qb = StandardScaler()\n",
    "qb_features_pg = pd.DataFrame(scaler_qb.fit_transform(qb_features_pg), columns=qb_features_pg.columns)\n",
    "scalerPPR_qb = StandardScaler() # need this to unscale the data later\n",
    "qb_PPR_pg = pd.DataFrame(scalerPPR_qb.fit_transform(qb_PPR_pg['PPR/G'].values.reshape(-1,1)), columns=['PPR/G'])\n",
    "qb_features_pg['Year'] = qb_stats_pg['Year']\n",
    "qb_features_pg['Changed_Teams'] = qb_stats_pg['Changed_Teams']\n",
    "qb_PPR_pg['Year'] = qb_stats_pg['Year']"
   ]
  },
  {
   "cell_type": "code",
   "execution_count": 9,
   "id": "f6fac999-bc1d-4cbd-bf30-e260047354c7",
   "metadata": {
    "tags": []
   },
   "outputs": [
    {
     "data": {
      "text/html": [
       "<div>\n",
       "<style scoped>\n",
       "    .dataframe tbody tr th:only-of-type {\n",
       "        vertical-align: middle;\n",
       "    }\n",
       "\n",
       "    .dataframe tbody tr th {\n",
       "        vertical-align: top;\n",
       "    }\n",
       "\n",
       "    .dataframe thead th {\n",
       "        text-align: right;\n",
       "    }\n",
       "</style>\n",
       "<table border=\"1\" class=\"dataframe\">\n",
       "  <thead>\n",
       "    <tr style=\"text-align: right;\">\n",
       "      <th></th>\n",
       "      <th>Year</th>\n",
       "      <th>GS/G</th>\n",
       "      <th>Cmp/G</th>\n",
       "      <th>Pass_Att/G</th>\n",
       "      <th>Pass_Yds/G</th>\n",
       "      <th>Pass_TD/G</th>\n",
       "      <th>Int/G</th>\n",
       "      <th>Rush_Att/G</th>\n",
       "      <th>Rush_Yds/G</th>\n",
       "      <th>Rush_TD/G</th>\n",
       "      <th>Changed_Teams</th>\n",
       "    </tr>\n",
       "  </thead>\n",
       "  <tbody>\n",
       "    <tr>\n",
       "      <th>0</th>\n",
       "      <td>2017</td>\n",
       "      <td>-0.811949</td>\n",
       "      <td>-0.654155</td>\n",
       "      <td>-0.739144</td>\n",
       "      <td>-0.669438</td>\n",
       "      <td>-0.387358</td>\n",
       "      <td>-0.937957</td>\n",
       "      <td>-0.490122</td>\n",
       "      <td>-0.566970</td>\n",
       "      <td>-0.789042</td>\n",
       "      <td>0</td>\n",
       "    </tr>\n",
       "    <tr>\n",
       "      <th>1</th>\n",
       "      <td>2018</td>\n",
       "      <td>-1.814809</td>\n",
       "      <td>-1.674574</td>\n",
       "      <td>-1.676053</td>\n",
       "      <td>-1.650139</td>\n",
       "      <td>-1.488015</td>\n",
       "      <td>-1.627074</td>\n",
       "      <td>-1.446103</td>\n",
       "      <td>-0.885309</td>\n",
       "      <td>-0.789042</td>\n",
       "      <td>1</td>\n",
       "    </tr>\n",
       "    <tr>\n",
       "      <th>2</th>\n",
       "      <td>2019</td>\n",
       "      <td>-1.814809</td>\n",
       "      <td>-1.693412</td>\n",
       "      <td>-1.684290</td>\n",
       "      <td>-1.668612</td>\n",
       "      <td>-1.488015</td>\n",
       "      <td>-1.627074</td>\n",
       "      <td>-1.118338</td>\n",
       "      <td>-0.918169</td>\n",
       "      <td>-0.789042</td>\n",
       "      <td>1</td>\n",
       "    </tr>\n",
       "    <tr>\n",
       "      <th>3</th>\n",
       "      <td>2020</td>\n",
       "      <td>-1.146236</td>\n",
       "      <td>-1.203611</td>\n",
       "      <td>-1.140676</td>\n",
       "      <td>-1.196463</td>\n",
       "      <td>-1.488015</td>\n",
       "      <td>-0.937957</td>\n",
       "      <td>-0.353553</td>\n",
       "      <td>-0.125403</td>\n",
       "      <td>1.016209</td>\n",
       "      <td>0</td>\n",
       "    </tr>\n",
       "    <tr>\n",
       "      <th>4</th>\n",
       "      <td>2023</td>\n",
       "      <td>-1.146236</td>\n",
       "      <td>-1.203611</td>\n",
       "      <td>-1.181859</td>\n",
       "      <td>-1.163863</td>\n",
       "      <td>-1.488015</td>\n",
       "      <td>-0.937957</td>\n",
       "      <td>-0.763259</td>\n",
       "      <td>-0.084327</td>\n",
       "      <td>1.016209</td>\n",
       "      <td>1</td>\n",
       "    </tr>\n",
       "  </tbody>\n",
       "</table>\n",
       "</div>"
      ],
      "text/plain": [
       "   Year      GS/G     Cmp/G  Pass_Att/G  Pass_Yds/G  Pass_TD/G     Int/G  \\\n",
       "0  2017 -0.811949 -0.654155   -0.739144   -0.669438  -0.387358 -0.937957   \n",
       "1  2018 -1.814809 -1.674574   -1.676053   -1.650139  -1.488015 -1.627074   \n",
       "2  2019 -1.814809 -1.693412   -1.684290   -1.668612  -1.488015 -1.627074   \n",
       "3  2020 -1.146236 -1.203611   -1.140676   -1.196463  -1.488015 -0.937957   \n",
       "4  2023 -1.146236 -1.203611   -1.181859   -1.163863  -1.488015 -0.937957   \n",
       "\n",
       "   Rush_Att/G  Rush_Yds/G  Rush_TD/G  Changed_Teams  \n",
       "0   -0.490122   -0.566970  -0.789042              0  \n",
       "1   -1.446103   -0.885309  -0.789042              1  \n",
       "2   -1.118338   -0.918169  -0.789042              1  \n",
       "3   -0.353553   -0.125403   1.016209              0  \n",
       "4   -0.763259   -0.084327   1.016209              1  "
      ]
     },
     "execution_count": 9,
     "metadata": {},
     "output_type": "execute_result"
    }
   ],
   "source": [
    "qb_features_pg.head()"
   ]
  },
  {
   "cell_type": "code",
   "execution_count": 10,
   "id": "2551f982-6c2b-4b20-92d3-4e1b7b464524",
   "metadata": {
    "tags": []
   },
   "outputs": [],
   "source": [
    "from sklearn.model_selection import KFold, cross_val_score, cross_validate\n",
    "from sklearn.metrics import mean_squared_error\n",
    "from sklearn.linear_model import LinearRegression"
   ]
  },
  {
   "cell_type": "code",
   "execution_count": 11,
   "id": "3d597d20-fb4c-4cef-b86e-c810ae140c75",
   "metadata": {
    "tags": []
   },
   "outputs": [],
   "source": [
    "# 12 fold cross validation\n",
    "kf = KFold(n_splits=12, random_state=42, shuffle=True)"
   ]
  },
  {
   "cell_type": "code",
   "execution_count": 12,
   "id": "d08ab581-c234-43e7-93f0-4833ac4f9d68",
   "metadata": {
    "tags": []
   },
   "outputs": [
    {
     "name": "stdout",
     "output_type": "stream",
     "text": [
      "Train MSE: [0.50186344 0.47996184 0.49810038 0.50988136 0.49522335 0.51136986\n",
      " 0.48427076 0.49363875 0.50163865 0.49064234 0.50382126 0.49282461]\n",
      "Test MSE: [0.46242629 0.71360307 0.50915104 0.38367375 0.55229533 0.35857879\n",
      " 0.6658281  0.56705995 0.47003911 0.59273539 0.43978869 0.58063219]\n",
      "Mean Train MSE: 0.4969363832713755\n",
      "Mean Test MSE: 0.5246509762142048\n"
     ]
    }
   ],
   "source": [
    "# linear regression only qbs\n",
    "lr = LinearRegression()\n",
    "results = cross_validate(lr, qb_features_pg.drop('Year', axis=1), qb_PPR_pg['PPR/G'], cv=kf, scoring='neg_mean_squared_error', return_train_score=True)\n",
    "\n",
    "print(f\"Train MSE: {-results['train_score']}\")\n",
    "print(f\"Test MSE: {-results['test_score']}\")\n",
    "print(f\"Mean Train MSE: {np.mean(-results['train_score'])}\")\n",
    "print(f\"Mean Test MSE: {np.mean(-results['test_score'])}\")"
   ]
  },
  {
   "cell_type": "code",
   "execution_count": 13,
   "id": "808e6a32-7a9e-4bc8-92cb-d2bbfb7c8b53",
   "metadata": {
    "tags": []
   },
   "outputs": [],
   "source": [
    "from sklearn.ensemble import GradientBoostingRegressor"
   ]
  },
  {
   "cell_type": "code",
   "execution_count": 14,
   "id": "f1f76eb6-bc27-46b4-8e7e-3fceaa0a2ab1",
   "metadata": {
    "tags": []
   },
   "outputs": [
    {
     "name": "stdout",
     "output_type": "stream",
     "text": [
      "Train MSE: [0.28796646 0.26439254 0.27715836 0.29321368 0.28771454 0.29047384\n",
      " 0.28014601 0.27969279 0.28117211 0.2832954  0.27833937 0.26927007]\n",
      "Test MSE: [0.43357522 0.76408332 0.68691851 0.39607378 0.54880681 0.35883399\n",
      " 0.65397365 0.67472089 0.65762243 0.61445652 0.52339951 0.70443705]\n",
      "Mean Train MSE: 0.28106959617304134\n",
      "Mean Test MSE: 0.5847418076614639\n"
     ]
    }
   ],
   "source": [
    "# gradient boosted regression only qbs\n",
    "gbr = GradientBoostingRegressor(n_estimators=6000,\n",
    "                                learning_rate=0.001,\n",
    "                                max_depth=4,\n",
    "                                max_features='sqrt',\n",
    "                                min_samples_leaf=15,\n",
    "                                min_samples_split=10,\n",
    "                                loss='huber',\n",
    "                                random_state=42)\n",
    "results = cross_validate(gbr, qb_features_pg.drop('Year', axis=1), qb_PPR_pg['PPR/G'], cv=kf, scoring='neg_mean_squared_error', return_train_score=True)\n",
    "\n",
    "print(f\"Train MSE: {-results['train_score']}\")\n",
    "print(f\"Test MSE: {-results['test_score']}\")\n",
    "print(f\"Mean Train MSE: {np.mean(-results['train_score'])}\")\n",
    "print(f\"Mean Test MSE: {np.mean(-results['test_score'])}\")"
   ]
  },
  {
   "cell_type": "code",
   "execution_count": 15,
   "id": "8fa70947-c137-40bf-ae3c-f4da6c628c0e",
   "metadata": {
    "tags": []
   },
   "outputs": [],
   "source": [
    "import torch.nn as nn\n",
    "import torch.nn.functional as F\n",
    "import torch.optim as optim"
   ]
  },
  {
   "cell_type": "code",
   "execution_count": 16,
   "id": "45433e9b-c58d-47a1-8780-1119ce625151",
   "metadata": {
    "tags": []
   },
   "outputs": [],
   "source": [
    "# same neural network as before\n",
    "class SimpleNN(nn.Module):\n",
    "    def __init__(self, input_size, hidden_size, output_size):\n",
    "        super(SimpleNN, self).__init__()\n",
    "        self.fc1 = nn.Linear(input_size, hidden_size)\n",
    "        self.relu = nn.ReLU()\n",
    "        self.fc2 = nn.Linear(hidden_size, output_size)\n",
    "    \n",
    "    def forward(self, x):\n",
    "        out = self.fc1(x)\n",
    "        out = self.relu(out)\n",
    "        out = self.fc2(out)\n",
    "        return out\n",
    "    \n",
    "def train(model, criterion, optmizer, num_epochs, X_train, y_train):\n",
    "    model.train()\n",
    "    for epoch in range(num_epochs):\n",
    "        # Forward pass\n",
    "        outputs = model(X_train)\n",
    "        loss = criterion(outputs, y_train)\n",
    "\n",
    "        # Backward pass and optimization\n",
    "        optimizer.zero_grad()\n",
    "        loss.backward()\n",
    "        optimizer.step()\n",
    "    return\n",
    "\n",
    "def evaluate(model, X_train, y_train, X_test, y_test):\n",
    "    model.eval()  \n",
    "    with torch.no_grad():  # No need to compute gradients for evaluation\n",
    "        train_predict = model(X_train)\n",
    "        test_predict = model(X_test)\n",
    "\n",
    "        train_mse = mean_squared_error(y_train.numpy(), train_predict.numpy())\n",
    "        test_mse = mean_squared_error(y_test.numpy(), test_predict.numpy())\n",
    "    return train_mse, test_mse"
   ]
  },
  {
   "cell_type": "code",
   "execution_count": 17,
   "id": "6f2a4fdf-e72f-464d-844d-b0a09ceb3392",
   "metadata": {
    "tags": []
   },
   "outputs": [
    {
     "name": "stdout",
     "output_type": "stream",
     "text": [
      "Fold 1\n",
      "Train MSE: 0.2838749885559082\n",
      "Test MSE: 0.47391828894615173\n",
      "\n",
      "Fold 2\n",
      "Train MSE: 0.335738867521286\n",
      "Test MSE: 0.5960904359817505\n",
      "\n",
      "Fold 3\n",
      "Train MSE: 0.32540568709373474\n",
      "Test MSE: 0.7102637887001038\n",
      "\n",
      "Fold 4\n",
      "Train MSE: 0.32125604152679443\n",
      "Test MSE: 0.5290007591247559\n",
      "\n",
      "Fold 5\n",
      "Train MSE: 0.30266889929771423\n",
      "Test MSE: 0.547470211982727\n",
      "\n",
      "Fold 6\n",
      "Train MSE: 0.3155335485935211\n",
      "Test MSE: 0.4852880537509918\n",
      "\n",
      "Fold 7\n",
      "Train MSE: 0.3119930326938629\n",
      "Test MSE: 0.7652067542076111\n",
      "\n",
      "Fold 8\n",
      "Train MSE: 0.3045644164085388\n",
      "Test MSE: 0.8119980096817017\n",
      "\n",
      "Fold 9\n",
      "Train MSE: 0.2957719564437866\n",
      "Test MSE: 0.7250003814697266\n",
      "\n",
      "Fold 10\n",
      "Train MSE: 0.32048916816711426\n",
      "Test MSE: 0.6670612096786499\n",
      "\n",
      "Fold 11\n",
      "Train MSE: 0.2889745235443115\n",
      "Test MSE: 0.5215308666229248\n",
      "\n",
      "Fold 12\n",
      "Train MSE: 0.2580851912498474\n",
      "Test MSE: 0.738976776599884\n",
      "\n",
      "Mean Train Loss: 0.3053630590438843\n",
      "Mean Test Loss: 0.6309837698936462\n"
     ]
    }
   ],
   "source": [
    "# setting up data and parameters\n",
    "X_tensor = torch.tensor(qb_features_pg.drop('Year', axis=1).values, dtype=torch.float32)\n",
    "y_tensor = torch.tensor(qb_PPR_pg.drop('Year', axis=1).values, dtype=torch.float32)\n",
    "learning_rate = 0.001\n",
    "num_epochs = 1000\n",
    "input_size = X_tensor.shape[1]\n",
    "hidden_size = 64\n",
    "output_size = 1\n",
    "criterion = nn.MSELoss()\n",
    "model = SimpleNN(input_size, hidden_size, output_size)\n",
    "optimizer = optim.Adam(model.parameters(), lr=0.001)\n",
    "\n",
    "# cross validation\n",
    "fold_results = []\n",
    "for fold, (train_idx, test_idx) in enumerate(kf.split(X_tensor)):\n",
    "    X_train = X_tensor[train_idx]\n",
    "    y_train = y_tensor[train_idx]\n",
    "    X_test = X_tensor[test_idx]\n",
    "    y_test = y_tensor[test_idx]\n",
    "    \n",
    "    # initialize the model, loss function, and optimizer\n",
    "    model = SimpleNN(input_size, hidden_size, output_size)\n",
    "    criterion = nn.MSELoss()\n",
    "    optimizer = optim.Adam(model.parameters(), lr=learning_rate)\n",
    "    \n",
    "    # train the model\n",
    "    train(model, criterion, optimizer, num_epochs, X_train, y_train)\n",
    "    \n",
    "    # validate the model\n",
    "    val_loss = evaluate(model, X_train, y_train, X_test, y_test)\n",
    "    print(f'Fold {fold + 1}')\n",
    "    print(f'Train MSE: {val_loss[0]}')\n",
    "    print(f'Test MSE: {val_loss[1]}\\n')\n",
    "    fold_results.append(val_loss)\n",
    "\n",
    "fold_results = np.array(fold_results)\n",
    "print(f'Mean Train Loss: {np.mean(fold_results[:,0])}')\n",
    "print(f'Mean Test Loss: {np.mean(fold_results[:,1])}')"
   ]
  },
  {
   "cell_type": "code",
   "execution_count": 18,
   "id": "3a1ffab2-1c8d-413a-88da-4a1cda6649ad",
   "metadata": {
    "tags": []
   },
   "outputs": [],
   "source": [
    "# 2023 data\n",
    "qb_features_pg_2023 = qb_features_pg[qb_features_pg['Year']==2023].drop('Year', axis=1)\n",
    "qb_PPR_pg_2023 = qb_PPR_pg[qb_PPR_pg['Year']==2023].drop('Year', axis=1)\n",
    "qb_info_pg_2023 = qb_info_pg[qb_info_pg['Year']==2023]"
   ]
  },
  {
   "cell_type": "code",
   "execution_count": 19,
   "id": "44848392-f734-4687-bbb0-0e2fbe80c9cd",
   "metadata": {
    "tags": []
   },
   "outputs": [
    {
     "name": "stdout",
     "output_type": "stream",
     "text": [
      "Epoch [100/1000], Loss: 0.4784\n",
      "Epoch [200/1000], Loss: 0.4397\n",
      "Epoch [300/1000], Loss: 0.4185\n",
      "Epoch [400/1000], Loss: 0.4029\n",
      "Epoch [500/1000], Loss: 0.3880\n",
      "Epoch [600/1000], Loss: 0.3744\n",
      "Epoch [700/1000], Loss: 0.3599\n",
      "Epoch [800/1000], Loss: 0.3456\n",
      "Epoch [900/1000], Loss: 0.3313\n",
      "Epoch [1000/1000], Loss: 0.3178\n",
      "Train Loss: 0.31770047545433044\n",
      "Test Loss: 0.6619703769683838\n"
     ]
    }
   ],
   "source": [
    "# train and test data\n",
    "X_train = torch.tensor(qb_features_pg[qb_features_pg['Year'] < 2023].drop('Year', axis=1).values, dtype=torch.float32)\n",
    "y_train = torch.tensor(qb_PPR_pg[qb_PPR_pg['Year'] < 2023].drop('Year', axis=1).values, dtype=torch.float32)\n",
    "X_test = torch.tensor(qb_features_pg_2023.values, dtype=torch.float32)\n",
    "y_test = torch.tensor(qb_PPR_pg_2023.values, dtype=torch.float32)\n",
    "\n",
    "# parameters\n",
    "input_size = X_train.shape[1]\n",
    "hidden_size = 64\n",
    "output_size = 1\n",
    "model = SimpleNN(input_size, hidden_size, output_size)\n",
    "criterion = nn.MSELoss()\n",
    "optimizer = optim.Adam(model.parameters(), lr=0.001)\n",
    "num_epochs = 1000\n",
    "\n",
    "model.train()\n",
    "for epoch in range(num_epochs):\n",
    "    # forward pass\n",
    "    outputs = model(X_train)\n",
    "    loss = criterion(outputs, y_train)\n",
    "    \n",
    "    # backward pass and optimization\n",
    "    optimizer.zero_grad()\n",
    "    loss.backward()\n",
    "    optimizer.step()\n",
    "    \n",
    "    if (epoch+1) % 100 == 0:\n",
    "        print(f'Epoch [{epoch+1}/{num_epochs}], Loss: {loss.item():.4f}')\n",
    "\n",
    "model.eval()  \n",
    "with torch.no_grad():  # don't need to compute gradients for evaluation\n",
    "    train_predict = model(X_train)\n",
    "    test_predict = model(X_test)\n",
    "\n",
    "    train_mse = mean_squared_error(y_train.numpy(), train_predict.numpy())\n",
    "    test_mse = mean_squared_error(y_test.numpy(), test_predict.numpy())\n",
    "\n",
    "print(f'Train Loss: {train_mse}')\n",
    "print(f'Test Loss: {test_mse}')"
   ]
  },
  {
   "cell_type": "code",
   "execution_count": 20,
   "id": "dbe8402c-5cd7-4c20-9d51-80afa3343398",
   "metadata": {
    "tags": []
   },
   "outputs": [
    {
     "data": {
      "text/html": [
       "<div>\n",
       "<style scoped>\n",
       "    .dataframe tbody tr th:only-of-type {\n",
       "        vertical-align: middle;\n",
       "    }\n",
       "\n",
       "    .dataframe tbody tr th {\n",
       "        vertical-align: top;\n",
       "    }\n",
       "\n",
       "    .dataframe thead th {\n",
       "        text-align: right;\n",
       "    }\n",
       "</style>\n",
       "<table border=\"1\" class=\"dataframe\">\n",
       "  <thead>\n",
       "    <tr style=\"text-align: right;\">\n",
       "      <th></th>\n",
       "      <th>Player</th>\n",
       "      <th>Year</th>\n",
       "      <th>Tm</th>\n",
       "      <th>FantPos</th>\n",
       "      <th>Age</th>\n",
       "      <th>Actual PPR/G</th>\n",
       "      <th>Predicted PPR/G</th>\n",
       "      <th>Actual PPR</th>\n",
       "      <th>Predicted PPR</th>\n",
       "      <th>Predicted Rank</th>\n",
       "      <th>Actual Rank</th>\n",
       "    </tr>\n",
       "  </thead>\n",
       "  <tbody>\n",
       "    <tr>\n",
       "      <th>24</th>\n",
       "      <td>Jalen Hurts</td>\n",
       "      <td>2023</td>\n",
       "      <td>PHI</td>\n",
       "      <td>QB</td>\n",
       "      <td>25.0</td>\n",
       "      <td>20.988235</td>\n",
       "      <td>24.172295</td>\n",
       "      <td>356.8</td>\n",
       "      <td>386.756714</td>\n",
       "      <td>1</td>\n",
       "      <td>2</td>\n",
       "    </tr>\n",
       "    <tr>\n",
       "      <th>60</th>\n",
       "      <td>Sam Howell</td>\n",
       "      <td>2023</td>\n",
       "      <td>WAS</td>\n",
       "      <td>QB</td>\n",
       "      <td>23.0</td>\n",
       "      <td>15.147059</td>\n",
       "      <td>21.489937</td>\n",
       "      <td>257.5</td>\n",
       "      <td>343.838989</td>\n",
       "      <td>2</td>\n",
       "      <td>21</td>\n",
       "    </tr>\n",
       "    <tr>\n",
       "      <th>17</th>\n",
       "      <td>Deshaun Watson</td>\n",
       "      <td>2023</td>\n",
       "      <td>CLE</td>\n",
       "      <td>QB</td>\n",
       "      <td>28.0</td>\n",
       "      <td>14.466667</td>\n",
       "      <td>20.997240</td>\n",
       "      <td>86.8</td>\n",
       "      <td>335.955841</td>\n",
       "      <td>3</td>\n",
       "      <td>23</td>\n",
       "    </tr>\n",
       "    <tr>\n",
       "      <th>55</th>\n",
       "      <td>Patrick Mahomes</td>\n",
       "      <td>2023</td>\n",
       "      <td>KAN</td>\n",
       "      <td>QB</td>\n",
       "      <td>28.0</td>\n",
       "      <td>17.512500</td>\n",
       "      <td>20.981453</td>\n",
       "      <td>280.2</td>\n",
       "      <td>335.703247</td>\n",
       "      <td>4</td>\n",
       "      <td>12</td>\n",
       "    </tr>\n",
       "    <tr>\n",
       "      <th>33</th>\n",
       "      <td>Josh Allen</td>\n",
       "      <td>2023</td>\n",
       "      <td>BUF</td>\n",
       "      <td>QB</td>\n",
       "      <td>27.0</td>\n",
       "      <td>23.094118</td>\n",
       "      <td>20.301723</td>\n",
       "      <td>392.6</td>\n",
       "      <td>324.827576</td>\n",
       "      <td>5</td>\n",
       "      <td>1</td>\n",
       "    </tr>\n",
       "  </tbody>\n",
       "</table>\n",
       "</div>"
      ],
      "text/plain": [
       "             Player  Year   Tm FantPos   Age  Actual PPR/G  Predicted PPR/G  \\\n",
       "24      Jalen Hurts  2023  PHI      QB  25.0     20.988235        24.172295   \n",
       "60       Sam Howell  2023  WAS      QB  23.0     15.147059        21.489937   \n",
       "17   Deshaun Watson  2023  CLE      QB  28.0     14.466667        20.997240   \n",
       "55  Patrick Mahomes  2023  KAN      QB  28.0     17.512500        20.981453   \n",
       "33       Josh Allen  2023  BUF      QB  27.0     23.094118        20.301723   \n",
       "\n",
       "    Actual PPR  Predicted PPR  Predicted Rank  Actual Rank  \n",
       "24       356.8     386.756714               1            2  \n",
       "60       257.5     343.838989               2           21  \n",
       "17        86.8     335.955841               3           23  \n",
       "55       280.2     335.703247               4           12  \n",
       "33       392.6     324.827576               5            1  "
      ]
     },
     "execution_count": 20,
     "metadata": {},
     "output_type": "execute_result"
    }
   ],
   "source": [
    "# saving predictions\n",
    "result = pd.DataFrame({'Actual PPR/G': qb_PPR_pg_2023.values.flatten(), 'Predicted PPR/G': test_predict.flatten()})\n",
    "result = pd.concat([qb_info_pg_2023.reset_index(drop=True), result.reset_index(drop=True)], axis=1)\n",
    "result['Actual PPR/G'] = qb_stats_pg['PPR/G'][qb_stats_pg['Year']==2023].reset_index(drop=True)\n",
    "result['Predicted PPR/G'] = scalerPPR_qb.inverse_transform(result['Predicted PPR/G'].values.reshape(-1,1))\n",
    "result['Actual PPR'] = qb_stats_pg['PPR'][qb_stats_pg['Year']==2023].reset_index(drop=True)\n",
    "result['Predicted PPR'] = result['Predicted PPR/G']*qb_stats_pg['GS/G'][qb_stats_pg['Year']==2023].reset_index(drop=True)*16\n",
    "result['Predicted Rank'] = result['Predicted PPR/G'].rank(ascending=False, method='min').astype(int)\n",
    "result['Actual Rank'] = result['Actual PPR/G'].rank(ascending=False, method='min').astype(int)\n",
    "result.sort_values('Predicted Rank', inplace=True)\n",
    "\n",
    "result.head()"
   ]
  },
  {
   "cell_type": "markdown",
   "id": "02d7b752-beb7-40b4-8b2a-7ad5223e239f",
   "metadata": {},
   "source": [
    "The models trained on data split by position were all overfit and performed quite bad on the test data. In addition the cross validation was inconsistent. I think this may be due to the fact that splitting up by position results in less train and test data. I'm going predicting PPR/G without splitting up by position."
   ]
  },
  {
   "cell_type": "code",
   "execution_count": 21,
   "id": "23921507-8542-4fd8-88c3-9b9b6037f1e0",
   "metadata": {
    "tags": []
   },
   "outputs": [
    {
     "data": {
      "text/plain": [
       "PPR/G            1.000000\n",
       "PPR              0.924478\n",
       "GS/G             0.506338\n",
       "GS               0.486816\n",
       "Tot_TD/G         0.472692\n",
       "Rec/G            0.375526\n",
       "Rec_Yds/G        0.366811\n",
       "Tgt/G            0.358360\n",
       "Pass_TD/G        0.355057\n",
       "Pass_Yds/G       0.342726\n",
       "Fmb/G            0.342721\n",
       "Cmp/G            0.333658\n",
       "Pass_Att/G       0.329776\n",
       "Rec_TD/G         0.323269\n",
       "FL/G             0.304385\n",
       "Rush_TD/G        0.301223\n",
       "Rush_Yds/G       0.296987\n",
       "Rush_Att/G       0.285529\n",
       "Int/G            0.263266\n",
       "Y/A              0.232757\n",
       "G                0.229862\n",
       "Age              0.056670\n",
       "Y/R              0.034939\n",
       "Changed_Teams   -0.193056\n",
       "Name: PPR/G, dtype: float64"
      ]
     },
     "execution_count": 21,
     "metadata": {},
     "output_type": "execute_result"
    }
   ],
   "source": [
    "corr_mat = player_stats_pg.drop(['Player', 'Year', 'Tm', 'FantPos', 'Tm_Last_Yr'], axis=1).corr()\n",
    "corr_mat['PPR/G'].sort_values(ascending=False)"
   ]
  },
  {
   "cell_type": "code",
   "execution_count": 22,
   "id": "1a6cc2fb-e183-4778-903b-bbcc4581ea32",
   "metadata": {
    "tags": []
   },
   "outputs": [],
   "source": [
    "# player features\n",
    "player_features_pg = player_stats_pg.drop(['Player', 'Tm', 'FantPos', 'Age', 'PPR', 'PPR/G', 'Tm_Last_Yr'], axis=1)\n",
    "player_info_pg = player_stats_pg[['Player', 'Year', 'Tm', 'FantPos', 'Age']]\n",
    "player_PPR_pg = player_stats_pg[['Year', 'PPR/G']][player_stats_pg['Year'] < 2024].reset_index(drop=True)\n",
    "\n",
    "# scaling the data\n",
    "scaler = StandardScaler()\n",
    "player_features_pg = pd.DataFrame(scaler.fit_transform(player_features_pg), columns=player_features_pg.columns)\n",
    "scalerPPR = StandardScaler() # using a different scaler so I can unscale the data later\n",
    "player_PPR_pg = pd.DataFrame(scalerPPR.fit_transform(player_PPR_pg['PPR/G'].values.reshape(-1,1)), columns=['PPR/G'])\n",
    "player_features_pg['Year'] = player_stats_pg['Year'].reset_index(drop=True)\n",
    "player_features_pg['Changed_Teams'] = player_stats_pg['Changed_Teams'].reset_index(drop=True)\n",
    "player_PPR_pg['Year'] = player_stats_pg['Year'][player_stats_pg['Year'] < 2024].reset_index(drop=True)\n",
    "\n",
    "# saving 2024 data\n",
    "player_features_pg_2024 = player_features_pg[player_features_pg['Year'] == 2024].reset_index(drop=True).drop('Year', axis=1)\n",
    "player_features_pg = player_features_pg[player_features_pg['Year'] < 2024].reset_index(drop=True)\n",
    "player_info_pg_2024 = player_info_pg[player_info_pg['Year'] == 2024].reset_index(drop=True)\n",
    "player_info_pg = player_info_pg[player_info_pg['Year'] < 2024].reset_index(drop=True)"
   ]
  },
  {
   "cell_type": "code",
   "execution_count": 23,
   "id": "afb25967-ed2b-4998-a1a6-1ab6b4070cb2",
   "metadata": {
    "tags": []
   },
   "outputs": [
    {
     "name": "stdout",
     "output_type": "stream",
     "text": [
      "Train MSE: [0.37238625 0.3687807  0.36888109 0.35848415 0.36333834 0.36590893\n",
      " 0.36375157 0.36628208 0.3663944  0.36180454 0.36902771 0.36758561]\n",
      "Test MSE: [0.30228664 0.34556049 0.34286202 0.45771646 0.4041706  0.37650123\n",
      " 0.39857489 0.3695095  0.37136084 0.42655277 0.33986181 0.36105637]\n",
      "Mean Train MSE: 0.3660521139397966\n",
      "Mean Test MSE: 0.374667801262327\n"
     ]
    }
   ],
   "source": [
    "# linear regression all players\n",
    "lr = LinearRegression()\n",
    "results = cross_validate(lr, player_features_pg.drop('Year', axis=1), player_PPR_pg['PPR/G'], cv=kf, scoring='neg_mean_squared_error', return_train_score=True)\n",
    "\n",
    "print(f\"Train MSE: {-results['train_score']}\")\n",
    "print(f\"Test MSE: {-results['test_score']}\")\n",
    "print(f\"Mean Train MSE: {np.mean(-results['train_score'])}\")\n",
    "print(f\"Mean Test MSE: {np.mean(-results['test_score'])}\")"
   ]
  },
  {
   "cell_type": "code",
   "execution_count": null,
   "id": "0724f76c-fcd5-4caa-994d-c00d9d0c99a8",
   "metadata": {
    "tags": []
   },
   "outputs": [],
   "source": [
    "# gradient boosted regression all players\n",
    "gbr = GradientBoostingRegressor(n_estimators=6000,\n",
    "                                learning_rate=0.001,\n",
    "                                max_depth=4,\n",
    "                                max_features='sqrt',\n",
    "                                min_samples_leaf=15,\n",
    "                                min_samples_split=10,\n",
    "                                loss='huber',\n",
    "                                random_state=42)\n",
    "results = cross_validate(gbr, player_features_pg.drop('Year', axis=1), player_PPR_pg['PPR/G'], cv=kf, scoring='neg_mean_squared_error', return_train_score=True)\n",
    "\n",
    "print(f\"Train MSE: {-results['train_score']}\")\n",
    "print(f\"Test MSE: {-results['test_score']}\")\n",
    "print(f\"Mean Train MSE: {np.mean(-results['train_score'])}\")\n",
    "print(f\"Mean Test MSE: {np.mean(-results['test_score'])}\")"
   ]
  },
  {
   "cell_type": "code",
   "execution_count": null,
   "id": "b1337dfa-057d-4526-8048-94ecb2b60d42",
   "metadata": {
    "tags": []
   },
   "outputs": [],
   "source": [
    "# setting up data and paramters\n",
    "X_tensor = torch.tensor(player_features_pg.drop('Year', axis=1).values, dtype=torch.float32)\n",
    "y_tensor = torch.tensor(player_PPR_pg.drop('Year', axis=1).values, dtype=torch.float32)\n",
    "learning_rate = 0.001\n",
    "num_epochs = 1000\n",
    "input_size = X_tensor.shape[1]\n",
    "hidden_size = int(X_train.shape[1]*2/3)\n",
    "output_size = 1\n",
    "criterion = nn.MSELoss()\n",
    "optimizer = optim.Adam(model.parameters(), lr=0.001)\n",
    "\n",
    "# cross validation\n",
    "fold_results = []\n",
    "for fold, (train_idx, test_idx) in enumerate(kf.split(X_tensor)):\n",
    "    X_train = X_tensor[train_idx]\n",
    "    y_train = y_tensor[train_idx]\n",
    "    X_test = X_tensor[test_idx]\n",
    "    y_test = y_tensor[test_idx]\n",
    "    \n",
    "    # initialize the model, loss function, and optimizer\n",
    "    model = SimpleNN(input_size, hidden_size, output_size)\n",
    "    criterion = nn.MSELoss()\n",
    "    optimizer = optim.Adam(model.parameters(), lr=learning_rate)\n",
    "    \n",
    "    # train the model\n",
    "    train(model, criterion, optimizer, num_epochs, X_train, y_train)\n",
    "    \n",
    "    # validate the model\n",
    "    val_loss = evaluate(model, X_train, y_train, X_test, y_test)\n",
    "    print(f'Fold {fold + 1}')\n",
    "    print(f'Train MSE: {val_loss[0]}')\n",
    "    print(f'Test MSE: {val_loss[1]}\\n')\n",
    "    fold_results.append(val_loss)\n",
    "    \n",
    "fold_results = np.array(fold_results)\n",
    "print(f'Mean Train Loss: {np.mean(fold_results[:,0])}')\n",
    "print(f'Mean Test Loss: {np.mean(fold_results[:,1])}')"
   ]
  },
  {
   "cell_type": "code",
   "execution_count": null,
   "id": "98e997dd-5aa2-4d76-add4-dca7c7317d38",
   "metadata": {},
   "outputs": [],
   "source": [
    "# 2023 data\n",
    "player_features_pg_2023 = player_features_pg[player_features_pg['Year']==2023].drop('Year', axis=1)\n",
    "player_PPR_pg_2023 = player_PPR_pg[player_PPR_pg['Year']==2023].drop('Year', axis=1)\n",
    "player_info_pg_2023 = player_info_pg[player_info_pg['Year']==2023]"
   ]
  },
  {
   "cell_type": "code",
   "execution_count": null,
   "id": "e5152191-d8fd-4df9-8343-5b70094052f1",
   "metadata": {
    "tags": []
   },
   "outputs": [],
   "source": [
    "# train and test data\n",
    "X_train = torch.tensor(player_features_pg[player_features_pg['Year'] < 2023].drop('Year', axis=1).values, dtype=torch.float32)\n",
    "y_train = torch.tensor(player_PPR_pg[player_PPR_pg['Year'] < 2023].drop('Year', axis=1).values, dtype=torch.float32)\n",
    "X_test = torch.tensor(player_features_pg_2023.values, dtype=torch.float32)\n",
    "y_test = torch.tensor(player_PPR_pg_2023.values, dtype=torch.float32)\n",
    "\n",
    "# parameters\n",
    "input_size = X_train.shape[1]\n",
    "hidden_size = int(X_train.shape[1]*2/3)\n",
    "output_size = 1\n",
    "model = SimpleNN(input_size, hidden_size, output_size)\n",
    "criterion = nn.MSELoss()\n",
    "optimizer = optim.Adam(model.parameters(), lr=0.001)\n",
    "num_epochs = 1000\n",
    "\n",
    "# training loop\n",
    "model.train()\n",
    "for epoch in range(num_epochs):\n",
    "    # forward pass\n",
    "    outputs = model(X_train)\n",
    "    loss = criterion(outputs, y_train)\n",
    "    \n",
    "    # backward pass and optimization\n",
    "    optimizer.zero_grad()\n",
    "    loss.backward()\n",
    "    optimizer.step()\n",
    "    \n",
    "    if (epoch+1) % 100 == 0:\n",
    "        print(f'Epoch [{epoch+1}/{num_epochs}], Loss: {loss.item():.4f}')\n",
    "\n",
    "# evaluating the model\n",
    "model.eval()  \n",
    "with torch.no_grad():\n",
    "    train_predict = model(X_train)\n",
    "    test_predict = model(X_test)\n",
    "\n",
    "    train_mse = mean_squared_error(y_train.numpy(), train_predict.numpy())\n",
    "    test_mse = mean_squared_error(y_test.numpy(), test_predict.numpy())\n",
    "\n",
    "print(f'Train Loss: {train_mse}')\n",
    "print(f'Test Loss: {test_mse}')"
   ]
  },
  {
   "cell_type": "code",
   "execution_count": null,
   "id": "062861a3-9db1-44c9-bb07-27bbce2fcf61",
   "metadata": {
    "tags": []
   },
   "outputs": [],
   "source": [
    "# saving predictions\n",
    "result = pd.DataFrame({'Actual PPR/G': player_PPR_pg_2023.values.flatten(), 'Predicted PPR/G': test_predict.flatten()})\n",
    "result = pd.concat([player_info_pg_2023.reset_index(drop=True), result.reset_index(drop=True)], axis=1)\n",
    "result['Actual PPR/G'] = player_stats_pg['PPR/G'][player_stats_pg['Year']==2023].reset_index(drop=True)\n",
    "result['Predicted PPR/G'] = scalerPPR.inverse_transform(result['Predicted PPR/G'].values.reshape(-1,1))\n",
    "result['Actual PPR'] = player_stats_pg['PPR'][player_stats_pg['Year']==2023].reset_index(drop=True)\n",
    "result['Predicted PPR'] = result['Predicted PPR/G']*16\n",
    "# for qbs I'm multiplying PPR/G * G/GS because qbs generally only play when they start\n",
    "result.loc[result['FantPos'] == 'QB', 'Predicted PPR'] = (result['Predicted PPR/G'] * \n",
    "    player_stats_pg.loc[player_stats_pg['Year'] == 2023, 'GS/G'].reset_index(drop=True) * 16)\n",
    "result['Predicted Rank'] = result['Predicted PPR'].rank(ascending=False, method='min').astype(int)\n",
    "result['Actual Rank'] = result['Actual PPR'].rank(ascending=False, method='min').astype(int)\n",
    "result.sort_values('Predicted Rank', inplace=True)\n",
    "\n",
    "pred_2023 = result.copy()\n",
    "pred_2023"
   ]
  },
  {
   "cell_type": "code",
   "execution_count": null,
   "id": "41580daa-e271-4c4a-b642-c71f0fb6655b",
   "metadata": {
    "tags": []
   },
   "outputs": [],
   "source": [
    "plt.scatter(result['Actual Rank'], result['Actual PPR/G'])\n",
    "plt.scatter(result['Actual Rank'], result['Predicted PPR/G'])"
   ]
  },
  {
   "cell_type": "markdown",
   "id": "a169e3f9-cf92-499c-8e9b-010394f6a1c7",
   "metadata": {},
   "source": [
    "# Rookies"
   ]
  },
  {
   "cell_type": "code",
   "execution_count": null,
   "id": "e1716464-c4b1-4ea5-8cb5-ae6f6b432229",
   "metadata": {
    "tags": []
   },
   "outputs": [],
   "source": [
    "rookies.head()"
   ]
  },
  {
   "cell_type": "code",
   "execution_count": null,
   "id": "a20066c2-07e0-47a2-afda-1462bd90fa9a",
   "metadata": {
    "tags": []
   },
   "outputs": [],
   "source": [
    "rookies.to_sql('rookies', conn, if_exists='replace', index=False)"
   ]
  },
  {
   "cell_type": "code",
   "execution_count": null,
   "id": "fa7192bf-9eb4-4acb-aa3b-8f31d0d2fae3",
   "metadata": {
    "tags": []
   },
   "outputs": [],
   "source": [
    "# joining rookies with college stats\n",
    "rookie_stats_pg = pd.read_sql('''\n",
    "    WITH temp AS (\n",
    "        SELECT \n",
    "            Player, Year, Tm, FantPos, Age, \"PPR/G\", PPR FROM rookies\n",
    "    )\n",
    "    SELECT \n",
    "        t.Player, t.Tm, t.Year, c.Pick, t.FantPos, t.Age, c.School, c.Conf, c.G as G, c.Cmp/G as \"Cmp/G\", \n",
    "        c.Pass_Att/G as \"Pass_Att/G\", c.Cmp_Pct, c.Pass_Yds/G as \"Pass_Yds/G\", c.\"Pass_Y/A\", c.Pass_TD/G as \"Pass_TD/G\",\n",
    "        c.Int/G as \"Int/G\", c.PR, c.Rush_Att/G as \"Rush_Att/G\", c.Rush_Yds/G as \"Rush_Yds/G\", c.\"Rush_Y/A\", \n",
    "        c.Rush_TD/G as \"Rush_TD/G\", c.Rec/G as \"Rec/G\", c.Rec_Yds/G as \"Rec_Yds/G\", c.\"Y/R\", c.Rec_TD/G as \"Rec_TD/G\", \n",
    "        c.Plays/G as \"Plays/G\", c.Tot_Yds/G as \"Tot_Yds/G\", c.\"Y/P\", c.Tot_TD/G as \"Tot_TD/G\", t.\"PPR/G\", t.PPR\n",
    "    FROM \n",
    "        temp t\n",
    "    LEFT JOIN \n",
    "        college_stats c\n",
    "    ON\n",
    "        t.Player = c.Player'''\n",
    "    , conn)\n",
    "rookie_stats_pg.dropna(subset=['G'], inplace=True) # na rows are undrafted players\n",
    "rookie_stats_pg"
   ]
  },
  {
   "cell_type": "code",
   "execution_count": null,
   "id": "40f1f737-c8d1-4e0e-bd9a-70be4e140e3d",
   "metadata": {
    "tags": []
   },
   "outputs": [],
   "source": [
    "corr_mat = rookie_stats_pg.drop(['Player', 'Year', 'Tm', 'FantPos', 'School', 'Conf'], axis=1).corr()\n",
    "corr_mat['PPR/G'].sort_values(ascending=False)\n",
    "# unsurprisingly none of the stats have that good of a correlation with PPR/G\n",
    "# where the player was picked is the best feature"
   ]
  },
  {
   "cell_type": "code",
   "execution_count": null,
   "id": "55509741-1381-4dda-8ac5-40b75ae55585",
   "metadata": {
    "tags": []
   },
   "outputs": [],
   "source": [
    "# rookies features\n",
    "rookie_features_pg = rookie_stats_pg.drop(['Player', 'Tm', 'FantPos', 'School', 'Conf', 'PPR', 'PPR/G'], axis=1)\n",
    "rookie_info_pg = rookie_stats_pg[['Player', 'Year', 'Tm', 'FantPos', 'Age', 'School']]\n",
    "rookie_PPR_pg = rookie_stats_pg[['Year', 'PPR/G']][rookie_stats_pg['Year'] < 2024].reset_index(drop=True)\n",
    "\n",
    "# scaling the data\n",
    "scaler_rookies = StandardScaler()\n",
    "rookie_features_pg = pd.DataFrame(scaler_rookies.fit_transform(rookie_features_pg), columns=rookie_features_pg.columns)\n",
    "scalerPPR_rookies = StandardScaler() \n",
    "rookie_PPR_pg = pd.DataFrame(scalerPPR_rookies.fit_transform(rookie_PPR_pg['PPR/G'].values.reshape(-1,1)), columns=['PPR/G'])\n",
    "rookie_features_pg['Year'] = rookie_stats_pg['Year'].reset_index(drop=True)\n",
    "rookie_PPR_pg['Year'] = rookie_stats_pg['Year'][rookie_stats_pg['Year'] < 2024].reset_index(drop=True)\n",
    "\n",
    "# saving 2024 data\n",
    "rookie_features_pg_2024 = rookie_features_pg[rookie_features_pg['Year'] == 2024].reset_index(drop=True).drop('Year', axis=1)\n",
    "rookie_features_pg = rookie_features_pg[rookie_features_pg['Year'] < 2024].reset_index(drop=True)\n",
    "rookie_info_pg_2024 = rookie_info_pg[rookie_info_pg['Year'] == 2024].reset_index(drop=True)\n",
    "rookie_info_pg = rookie_info_pg[rookie_info_pg['Year'] < 2024].reset_index(drop=True)"
   ]
  },
  {
   "cell_type": "code",
   "execution_count": null,
   "id": "318b0cb9-768a-456c-8ba5-1b1774ff8e33",
   "metadata": {
    "tags": []
   },
   "outputs": [],
   "source": [
    "# linear regression rookies\n",
    "lr = LinearRegression()\n",
    "results = cross_validate(lr, rookie_features_pg.drop('Year', axis=1), rookie_PPR_pg['PPR/G'], cv=kf, scoring='neg_mean_squared_error', return_train_score=True)\n",
    "\n",
    "print(f\"Train MSE: {-results['train_score']}\")\n",
    "print(f\"Test MSE: {-results['test_score']}\")\n",
    "print(f\"Mean Train MSE: {np.mean(-results['train_score'])}\")\n",
    "print(f\"Mean Test MSE: {np.mean(-results['test_score'])}\")\n",
    "# as expected the fit is bad because the data is not great"
   ]
  },
  {
   "cell_type": "code",
   "execution_count": null,
   "id": "879e4706-9df6-4a23-9a6c-f8f7c45bfaa8",
   "metadata": {
    "tags": []
   },
   "outputs": [],
   "source": [
    "# the data is overfit a little bit and since most of the stats aren't highly correlated I'm going to use less features\n",
    "# I chose PR, Tot_Yds/G, and Tot_TD/G because they are combined stats and represent all of the other stats\n",
    "# PR (passer rating) is calculated from attempts, completions, yards, tds, and ints\n",
    "lr = LinearRegression()\n",
    "results = cross_validate(lr, rookie_features_pg[['Pick', 'Age', 'PR', 'Tot_Yds/G', 'Tot_TD/G']], rookie_PPR_pg['PPR/G'], cv=kf, scoring='neg_mean_squared_error', return_train_score=True)\n",
    "\n",
    "print(f\"Train MSE: {-results['train_score']}\")\n",
    "print(f\"Test MSE: {-results['test_score']}\")\n",
    "print(f\"Mean Train MSE: {np.mean(-results['train_score'])}\")\n",
    "print(f\"Mean Test MSE: {np.mean(-results['test_score'])}\")"
   ]
  },
  {
   "cell_type": "code",
   "execution_count": null,
   "id": "c2331b0b-320f-4a27-b40b-643ef1c4490d",
   "metadata": {
    "tags": []
   },
   "outputs": [],
   "source": [
    "# fit was a little better so I'm going to continue using only those stats\n",
    "rookie_features_pg = rookie_features_pg[['Year', 'Pick', 'Age', 'PR', 'Tot_Yds/G', 'Tot_TD/G']]\n",
    "rookie_features_pg.head()"
   ]
  },
  {
   "cell_type": "code",
   "execution_count": null,
   "id": "5d321c8d-856e-4320-adce-06a02c992e2a",
   "metadata": {
    "tags": []
   },
   "outputs": [],
   "source": [
    "# gradient boosted regression rookies\n",
    "gbr = GradientBoostingRegressor(n_estimators=6000,\n",
    "                                learning_rate=0.001,\n",
    "                                max_depth=4,\n",
    "                                max_features='sqrt',\n",
    "                                min_samples_leaf=15,\n",
    "                                min_samples_split=10,\n",
    "                                loss='huber',\n",
    "                                random_state=42)\n",
    "results = cross_validate(gbr, rookie_features_pg.drop('Year', axis=1), rookie_PPR_pg['PPR/G'], cv=kf, scoring='neg_mean_squared_error', return_train_score=True)\n",
    "\n",
    "print(f\"Train MSE: {-results['train_score']}\")\n",
    "print(f\"Test MSE: {-results['test_score']}\")\n",
    "print(f\"Mean Train MSE: {np.mean(-results['train_score'])}\")\n",
    "print(f\"Mean Test MSE: {np.mean(-results['test_score'])}\")"
   ]
  },
  {
   "cell_type": "code",
   "execution_count": null,
   "id": "9e96e0da-67ce-4ec4-9e07-89d1eb571274",
   "metadata": {
    "tags": []
   },
   "outputs": [],
   "source": [
    "# data and parameters\n",
    "X_tensor = torch.tensor(rookie_features_pg.drop('Year', axis=1).values, dtype=torch.float32)\n",
    "y_tensor = torch.tensor(rookie_PPR_pg.drop('Year', axis=1).values, dtype=torch.float32)\n",
    "learning_rate = 0.001\n",
    "num_epochs = 1000\n",
    "input_size = X_tensor.shape[1]\n",
    "hidden_size = int(X_tensor.shape[1]*2/3)\n",
    "output_size = 1\n",
    "criterion = nn.MSELoss()\n",
    "model = SimpleNN(input_size, hidden_size, output_size)\n",
    "optimizer = optim.Adam(model.parameters(), lr=0.001)\n",
    "\n",
    "# cross validation\n",
    "fold_results = []\n",
    "for fold, (train_idx, test_idx) in enumerate(kf.split(X_tensor)):\n",
    "    X_train = X_tensor[train_idx]\n",
    "    y_train = y_tensor[train_idx]\n",
    "    X_test = X_tensor[test_idx]\n",
    "    y_test = y_tensor[test_idx]\n",
    "    \n",
    "    # initialize the model, loss function, and optimizer\n",
    "    model = SimpleNN(input_size, hidden_size, output_size)\n",
    "    criterion = nn.MSELoss()\n",
    "    optimizer = optim.Adam(model.parameters(), lr=learning_rate)\n",
    "    \n",
    "    # train the model\n",
    "    train(model, criterion, optimizer, num_epochs, X_train, y_train)\n",
    "    \n",
    "    # validate the model\n",
    "    val_loss = evaluate(model, X_train, y_train, X_test, y_test)\n",
    "    print(f'Fold {fold + 1}')\n",
    "    print(f'Train MSE: {val_loss[0]}')\n",
    "    print(f'Test MSE: {val_loss[1]}\\n')\n",
    "    fold_results.append(val_loss)\n",
    "\n",
    "fold_results = np.array(fold_results)\n",
    "print(f'Mean Train Loss: {np.mean(fold_results[:,0])}')\n",
    "print(f'Mean Test Loss: {np.mean(fold_results[:,1])}')"
   ]
  },
  {
   "cell_type": "code",
   "execution_count": null,
   "id": "9df670b8-70a5-4285-82c6-d2b637aab8d5",
   "metadata": {
    "tags": []
   },
   "outputs": [],
   "source": [
    "# 2023 data\n",
    "rookie_features_pg_2023 = rookie_features_pg[rookie_features_pg['Year']==2023].drop('Year', axis=1)\n",
    "rookie_PPR_pg_2023 = rookie_PPR_pg[rookie_PPR_pg['Year']==2023].drop('Year', axis=1)\n",
    "rookie_info_pg_2023 = rookie_info_pg[rookie_info_pg['Year']==2023]"
   ]
  },
  {
   "cell_type": "code",
   "execution_count": null,
   "id": "1d2887f2-6a63-49ab-b855-ddb5020b448e",
   "metadata": {
    "tags": []
   },
   "outputs": [],
   "source": [
    "# train and test data\n",
    "X_train = torch.tensor(rookie_features_pg[rookie_features_pg['Year'] < 2023].drop('Year', axis=1).values, dtype=torch.float32)\n",
    "y_train = torch.tensor(rookie_PPR_pg[rookie_PPR_pg['Year'] < 2023].drop('Year', axis=1).values, dtype=torch.float32)\n",
    "X_test = torch.tensor(rookie_features_pg_2023.values, dtype=torch.float32)\n",
    "y_test = torch.tensor(rookie_PPR_pg_2023.values, dtype=torch.float32)\n",
    "\n",
    "# parameters\n",
    "input_size = X_train.shape[1]\n",
    "hidden_size = int(X_train.shape[1]*2/3)\n",
    "output_size = 1\n",
    "model = SimpleNN(input_size, hidden_size, output_size)\n",
    "criterion = nn.MSELoss()\n",
    "optimizer = optim.Adam(model.parameters(), lr=0.001)\n",
    "num_epochs = 1000\n",
    "\n",
    "# training loop\n",
    "model.train()\n",
    "for epoch in range(num_epochs):\n",
    "    # forward pass\n",
    "    outputs = model(X_train)\n",
    "    loss = criterion(outputs, y_train)\n",
    "    \n",
    "    # backward pass and optimization\n",
    "    optimizer.zero_grad()\n",
    "    loss.backward()\n",
    "    optimizer.step()\n",
    "    \n",
    "    if (epoch+1) % 100 == 0:\n",
    "        print(f'Epoch [{epoch+1}/{num_epochs}], Loss: {loss.item():.4f}')\n",
    "\n",
    "# evaluating the model\n",
    "model.eval()  \n",
    "with torch.no_grad():  \n",
    "    train_predict = model(X_train)\n",
    "    test_predict = model(X_test)\n",
    "\n",
    "    train_mse = mean_squared_error(y_train.numpy(), train_predict.numpy())\n",
    "    test_mse = mean_squared_error(y_test.numpy(), test_predict.numpy())\n",
    "\n",
    "print(f'Train Loss: {train_mse}')\n",
    "print(f'Test Loss: {test_mse}')"
   ]
  },
  {
   "cell_type": "code",
   "execution_count": null,
   "id": "81ea89ef-4625-4e93-bfb7-6d07c64cb69a",
   "metadata": {
    "tags": []
   },
   "outputs": [],
   "source": [
    "# I think this good for now, try other models later like ridge regression because data is overfit"
   ]
  },
  {
   "cell_type": "code",
   "execution_count": null,
   "id": "2cf7461c-4cfe-4abd-b9dd-269f870f05fb",
   "metadata": {
    "tags": []
   },
   "outputs": [],
   "source": [
    "# saving predictions\n",
    "result = pd.DataFrame({'Actual PPR/G': rookie_PPR_pg_2023.values.flatten(), 'Predicted PPR/G': test_predict.flatten()})\n",
    "result = pd.concat([rookie_info_pg_2023.reset_index(drop=True), result.reset_index(drop=True)], axis=1)\n",
    "result['Actual PPR/G'] = rookie_stats_pg['PPR/G'][rookie_stats_pg['Year']==2023].reset_index(drop=True)\n",
    "result['Predicted PPR/G'] = scalerPPR_rookies.inverse_transform(result['Predicted PPR/G'].values.reshape(-1,1))\n",
    "result['Actual PPR'] = rookie_stats_pg['PPR'][rookie_stats_pg['Year']==2023].reset_index(drop=True)\n",
    "result['Predicted PPR'] = result['Predicted PPR/G']*16\n",
    "result['Predicted Rank'] = result['Predicted PPR'].rank(ascending=False, method='min').astype(int)\n",
    "result['Actual Rank'] = result['Actual PPR'].rank(ascending=False, method='min').astype(int)\n",
    "result.sort_values('Predicted Rank', inplace=True)\n",
    "\n",
    "pred_rookies_2023 = result.copy()\n",
    "pred_rookies_2023"
   ]
  },
  {
   "cell_type": "code",
   "execution_count": null,
   "id": "4da522bf-bb45-4c25-8df3-8352757e1ff0",
   "metadata": {
    "tags": []
   },
   "outputs": [],
   "source": [
    "# combining non rookies and rookies\n",
    "pred_all_2023 = pd.concat([pred_2023, pred_rookies_2023.drop('School', axis=1)]).reset_index(drop=True)\n",
    "pred_all_2023.drop(['Predicted Rank', 'Actual Rank'], axis=1, inplace=True)\n",
    "pred_all_2023.head()"
   ]
  },
  {
   "cell_type": "markdown",
   "id": "0a1814d9-f6f9-4694-baf6-1b4b2abd3b96",
   "metadata": {},
   "source": [
    "In standard fantasy league formats (which is what I play with) each team starts 1 qb, 2 rbs, 2 wr, 1 te, and 1 flex (rb/wr/te). Because of this different positions are valued differently. Rbs are generally the most valued because each team needs 2 and they are relatively the most scarce. Qbs are the last valued because even though they are the highest scoring position, each team only needs and they are relatively the most scarce. Wrs are valued slightly less than rbs because they score around the same as rbs but there are more of them. Tes are valued similarly to rbs because they don't score as much but they are very scarce. If I make my overall rankings by sorting all the players by predicted PPR, my rankings will have qbs too high, so I need to account for this in my overall rankings. I did some research online and found that qbs are generally 70% as valuable as other positions so I'll start from there and see how it looks. I think I will also make some slight adjustments to rbs, wrs, and tes. "
   ]
  },
  {
   "cell_type": "code",
   "execution_count": null,
   "id": "e6e4e159-c864-446d-a817-debe2eb5e351",
   "metadata": {
    "tags": []
   },
   "outputs": [],
   "source": [
    "# creating Adj PPR that adjusts for positional value\n",
    "pred_all_2023['Adj Predicted PPR'] = pred_all_2023['Predicted PPR']\n",
    "pred_all_2023.loc[pred_all_2023['FantPos']=='QB', 'Adj Predicted PPR'] = pred_all_2023.loc[pred_all_2023['FantPos']=='QB', 'Predicted PPR']*0.7\n",
    "pred_all_2023.loc[pred_all_2023['FantPos']=='WR', 'Adj Predicted PPR'] = pred_all_2023.loc[pred_all_2023['FantPos']=='WR', 'Predicted PPR']*0.95\n",
    "pred_all_2023.loc[pred_all_2023['FantPos']=='TE', 'Adj Predicted PPR'] = pred_all_2023.loc[pred_all_2023['FantPos']=='TE', 'Predicted PPR']*1.05\n",
    "\n",
    "pred_all_2023['Adj Actual PPR'] = pred_all_2023['Actual PPR']\n",
    "pred_all_2023.loc[pred_all_2023['FantPos']=='QB', 'Adj Actual PPR'] = pred_all_2023.loc[pred_all_2023['FantPos']=='QB', 'Actual PPR']*0.7\n",
    "pred_all_2023.loc[pred_all_2023['FantPos']=='WR', 'Adj Actual PPR'] = pred_all_2023.loc[pred_all_2023['FantPos']=='WR', 'Actual PPR']*0.95\n",
    "pred_all_2023.loc[pred_all_2023['FantPos']=='TE', 'Adj Actual PPR'] = pred_all_2023.loc[pred_all_2023['FantPos']=='TE', 'Actual PPR']*1.05\n",
    "\n",
    "pred_all_2023['Predicted OvRank'] = pred_all_2023['Adj Predicted PPR'].rank(ascending=False, method='min').astype(int)\n",
    "pred_all_2023['Actual OvRank'] = pred_all_2023['Adj Actual PPR'].rank(ascending=False, method='min').astype(int)\n",
    "\n",
    "pred_all_2023.sort_values('Predicted OvRank', inplace=True)\n",
    "pred_all_2023.head()"
   ]
  },
  {
   "cell_type": "code",
   "execution_count": null,
   "id": "90f4796c-5f39-477d-bd7f-dd7d03dc5b9f",
   "metadata": {
    "tags": []
   },
   "outputs": [],
   "source": [
    "# splitting up by position\n",
    "pred_qb_2023 = pred_all_2023[pred_all_2023['FantPos']=='QB'].reset_index(drop=True)\n",
    "pred_rb_2023 = pred_all_2023[pred_all_2023['FantPos']=='RB'].reset_index(drop=True)\n",
    "pred_wr_2023 = pred_all_2023[pred_all_2023['FantPos']=='WR'].reset_index(drop=True)\n",
    "pred_te_2023 = pred_all_2023[pred_all_2023['FantPos']=='TE'].reset_index(drop=True)\n",
    "\n",
    "pred_qb_2023['Predicted PosRank'] = pred_qb_2023['Predicted PPR'].rank(ascending=False, method='min').astype(int)\n",
    "pred_qb_2023['Actual PosRank'] = pred_qb_2023['Actual PPR'].rank(ascending=False, method='min').astype(int)\n",
    "pred_rb_2023['Predicted PosRank'] = pred_rb_2023['Predicted PPR'].rank(ascending=False, method='min').astype(int)\n",
    "pred_rb_2023['Actual PosRank'] = pred_rb_2023['Actual PPR'].rank(ascending=False, method='min').astype(int)\n",
    "pred_wr_2023['Predicted PosRank'] = pred_wr_2023['Predicted PPR'].rank(ascending=False, method='min').astype(int)\n",
    "pred_wr_2023['Actual PosRank'] = pred_wr_2023['Actual PPR'].rank(ascending=False, method='min').astype(int)\n",
    "pred_te_2023['Predicted PosRank'] = pred_te_2023['Predicted PPR'].rank(ascending=False, method='min').astype(int)\n",
    "pred_te_2023['Actual PosRank'] = pred_te_2023['Actual PPR'].rank(ascending=False, method='min').astype(int)\n",
    "\n",
    "pred_qb_2023.sort_values('Predicted PosRank', inplace=True)\n",
    "pred_rb_2023.sort_values('Predicted PosRank', inplace=True)\n",
    "pred_wr_2023.sort_values('Predicted PosRank', inplace=True)\n",
    "pred_te_2023.sort_values('Predicted PosRank', inplace=True)\n",
    "\n",
    "pred_qb_2023.head()"
   ]
  },
  {
   "cell_type": "code",
   "execution_count": null,
   "id": "f88212bf-643e-48ab-8c82-669a20f57b26",
   "metadata": {
    "tags": []
   },
   "outputs": [],
   "source": [
    "# recombining positions\n",
    "pred_all_2023 = pd.concat([pred_qb_2023, pred_rb_2023, pred_wr_2023, pred_te_2023]).reset_index(drop=True)\n",
    "pred_all_2023.sort_values('Predicted OvRank', inplace=True)\n",
    "pred_all_2023"
   ]
  },
  {
   "cell_type": "markdown",
   "id": "8a718dd5-b75f-44a9-8d8b-9c58517c9387",
   "metadata": {},
   "source": [
    "I'm happy with my model's predictions for now so I'm going to train the models and predict for the upcoming 2024 season. I will come back and try other models and finetune new and existing models"
   ]
  },
  {
   "cell_type": "markdown",
   "id": "224c738b-a7e8-48eb-9108-b947af11b2ea",
   "metadata": {},
   "source": [
    "# 2024 Predictions"
   ]
  },
  {
   "cell_type": "code",
   "execution_count": null,
   "id": "89172c6c-b558-4078-bdb1-ccda086e368c",
   "metadata": {
    "tags": []
   },
   "outputs": [],
   "source": [
    "# I made player_features 2024 and player_info_2024 earlier\n",
    "player_features_pg_2024.head()"
   ]
  },
  {
   "cell_type": "code",
   "execution_count": null,
   "id": "0d3ba08d-bbe9-40e6-a765-49d0202bb3e3",
   "metadata": {
    "tags": []
   },
   "outputs": [],
   "source": [
    "# train and test data\n",
    "X_train = torch.tensor(player_features_pg.drop('Year', axis=1).values, dtype=torch.float32)\n",
    "y_train = torch.tensor(player_PPR_pg.drop('Year', axis=1).values, dtype=torch.float32)\n",
    "X_test = torch.tensor(player_features_pg_2024.values, dtype=torch.float32)\n",
    "\n",
    "# parameters\n",
    "input_size = X_train.shape[1]\n",
    "hidden_size = int(X_train.shape[1]*2/3)\n",
    "output_size = 1\n",
    "model = SimpleNN(input_size, hidden_size, output_size)\n",
    "criterion = nn.MSELoss()\n",
    "optimizer = optim.Adam(model.parameters(), lr=0.001)\n",
    "num_epochs = 1000\n",
    "\n",
    "# training loop\n",
    "model.train()\n",
    "for epoch in range(num_epochs):\n",
    "    # forward pass\n",
    "    outputs = model(X_train)\n",
    "    loss = criterion(outputs, y_train)\n",
    "    \n",
    "    # backward pass and optimization\n",
    "    optimizer.zero_grad()\n",
    "    loss.backward()\n",
    "    optimizer.step()\n",
    "    \n",
    "    if (epoch+1) % 100 == 0:\n",
    "        print(f'Epoch [{epoch+1}/{num_epochs}], Loss: {loss.item():.4f}')\n",
    "\n",
    "# evaluating the model\n",
    "model.eval()  \n",
    "with torch.no_grad():  \n",
    "    train_predict = model(X_train)\n",
    "    test_predict = model(X_test)\n",
    "    train_mse = mean_squared_error(y_train.numpy(), train_predict.numpy())\n",
    "\n",
    "print(f'Train Loss: {train_mse}')"
   ]
  },
  {
   "cell_type": "code",
   "execution_count": null,
   "id": "0a292540-b3ac-40f7-88dd-b27e82c93185",
   "metadata": {
    "tags": []
   },
   "outputs": [],
   "source": [
    "# saving predictions\n",
    "result = pd.DataFrame({'PPR/G': test_predict.flatten()})\n",
    "result = pd.concat([player_info_pg_2024.reset_index(drop=True), result.reset_index(drop=True)], axis=1)\n",
    "result['PPR/G'] = scalerPPR.inverse_transform(result['PPR/G'].values.reshape(-1,1))\n",
    "result['PPR'] = result['PPR/G']*16\n",
    "result.loc[result['FantPos'] == 'QB', 'PPR'] = (result['PPR/G'] * player_stats_pg_2024['GS/G'].reset_index(drop=True) * 16)\n",
    "result.sort_values('PPR', ascending=False, inplace=True)\n",
    "\n",
    "pred_2024 = result.copy()\n",
    "pred_2024.head()"
   ]
  },
  {
   "cell_type": "code",
   "execution_count": null,
   "id": "421d829c-7b30-413c-8a14-3d8289084f9a",
   "metadata": {
    "tags": []
   },
   "outputs": [],
   "source": [
    "# I also made rookie_features_2024 and rookie_info_2024 earlier\n",
    "rookie_features_pg_2024 = rookie_features_pg_2024[['Pick', 'Age', 'PR', 'Tot_Yds/G', 'Tot_TD/G']]\n",
    "rookie_features_pg_2024.head()"
   ]
  },
  {
   "cell_type": "code",
   "execution_count": null,
   "id": "eec96221-4e3a-44d1-80ea-fe29c1192901",
   "metadata": {
    "tags": []
   },
   "outputs": [],
   "source": [
    "# train and test data\n",
    "X_train = torch.tensor(rookie_features_pg.drop('Year', axis=1).values, dtype=torch.float32)\n",
    "y_train = torch.tensor(rookie_PPR_pg.drop('Year', axis=1).values, dtype=torch.float32)\n",
    "X_test = torch.tensor(rookie_features_pg_2024.values, dtype=torch.float32)\n",
    "\n",
    "# paramters\n",
    "input_size = X_train.shape[1]\n",
    "hidden_size = int(X_train.shape[1]*2/3)\n",
    "output_size = 1\n",
    "model = SimpleNN(input_size, hidden_size, output_size)\n",
    "criterion = nn.MSELoss()\n",
    "optimizer = optim.Adam(model.parameters(), lr=0.001)\n",
    "num_epochs = 1000\n",
    "\n",
    "# training loop\n",
    "model.train()\n",
    "for epoch in range(num_epochs):\n",
    "    # Forward pass\n",
    "    outputs = model(X_train)\n",
    "    loss = criterion(outputs, y_train)\n",
    "    \n",
    "    # Backward pass and optimization\n",
    "    optimizer.zero_grad()\n",
    "    loss.backward()\n",
    "    optimizer.step()\n",
    "    \n",
    "    if (epoch+1) % 100 == 0:\n",
    "        print(f'Epoch [{epoch+1}/{num_epochs}], Loss: {loss.item():.4f}')\n",
    "\n",
    "# evaluating the model\n",
    "model.eval()  \n",
    "with torch.no_grad(): \n",
    "    train_predict = model(X_train)\n",
    "    test_predict = model(X_test)\n",
    "    train_mse = mean_squared_error(y_train.numpy(), train_predict.numpy())\n",
    "\n",
    "print(f'Train Loss: {train_mse}')"
   ]
  },
  {
   "cell_type": "code",
   "execution_count": null,
   "id": "8d1d4ecf-280e-473d-8bf8-11b637b35c24",
   "metadata": {
    "tags": []
   },
   "outputs": [],
   "source": [
    "# saving predictions\n",
    "result = pd.DataFrame({'PPR/G': test_predict.flatten()})\n",
    "result = pd.concat([rookie_info_pg_2024.reset_index(drop=True), result.reset_index(drop=True)], axis=1)\n",
    "result['PPR/G'] = scalerPPR_rookies.inverse_transform(result['PPR/G'].values.reshape(-1,1))\n",
    "result['PPR'] = result['PPR/G']*16\n",
    "result.sort_values('PPR', ascending=False, inplace=True)\n",
    "\n",
    "pred_rookies_2024 = result.copy()\n",
    "pred_rookies_2024.head()"
   ]
  },
  {
   "cell_type": "code",
   "execution_count": null,
   "id": "ea98c7b3-ffdc-4398-8511-0f7b763ea32b",
   "metadata": {
    "tags": []
   },
   "outputs": [],
   "source": [
    "# combining both predictions (non rookies and rookies)\n",
    "pred_all_2024 = pd.concat([pred_2024, pred_rookies_2024.drop('School', axis=1)]).reset_index(drop=True)\n",
    "pred_all_2024['PPR/G'] = pred_all_2024['PPR/G'].astype('float64')\n",
    "pred_all_2024['Age'] = pred_all_2024['Age'].astype('int')\n",
    "\n",
    "# adjusting PPR by position\n",
    "pred_all_2024['Adj PPR'] = pred_all_2024['PPR']\n",
    "pred_all_2024.loc[pred_all_2024['FantPos']=='QB', 'Adj PPR'] = pred_all_2024.loc[pred_all_2024['FantPos']=='QB', 'PPR']*0.7\n",
    "pred_all_2024.loc[pred_all_2024['FantPos']=='WR', 'Adj PPR'] = pred_all_2024.loc[pred_all_2024['FantPos']=='WR', 'PPR']*0.95\n",
    "pred_all_2024.loc[pred_all_2024['FantPos']=='TE', 'Adj PPR'] = pred_all_2024.loc[pred_all_2024['FantPos']=='TE', 'PPR']*1.05\n",
    "pred_all_2024['OvRank'] = pred_all_2024['Adj PPR'].rank(ascending=False, method='min').astype(int)\n",
    "pred_all_2024.sort_values('OvRank', inplace=True)\n",
    "pred_all_2024.drop('Adj PPR', axis=1, inplace=True)\n",
    "\n",
    "# splitting up by position\n",
    "pred_qb_2024 = pred_all_2024[pred_all_2024['FantPos']=='QB'].reset_index(drop=True)\n",
    "pred_rb_2024 = pred_all_2024[pred_all_2024['FantPos']=='RB'].reset_index(drop=True)\n",
    "pred_wr_2024 = pred_all_2024[pred_all_2024['FantPos']=='WR'].reset_index(drop=True)\n",
    "pred_te_2024 = pred_all_2024[pred_all_2024['FantPos']=='TE'].reset_index(drop=True)\n",
    "\n",
    "# making the positional rankings\n",
    "pred_qb_2024['PosRank'] = pred_qb_2024['PPR'].rank(ascending=False, method='min').astype(int)\n",
    "pred_rb_2024['PosRank'] = pred_rb_2024['PPR'].rank(ascending=False, method='min').astype(int)\n",
    "pred_wr_2024['PosRank'] = pred_wr_2024['PPR'].rank(ascending=False, method='min').astype(int)\n",
    "pred_te_2024['PosRank'] = pred_te_2024['PPR'].rank(ascending=False, method='min').astype(int)\n",
    "\n",
    "pred_qb_2024.sort_values('PosRank', inplace=True)\n",
    "pred_rb_2024.sort_values('PosRank', inplace=True)\n",
    "pred_wr_2024.sort_values('PosRank', inplace=True)\n",
    "pred_te_2024.sort_values('PosRank', inplace=True)\n",
    "\n",
    "# recombining the positions into one dataframe\n",
    "pred_all_2024 = pd.concat([pred_qb_2024, pred_rb_2024, pred_wr_2024, pred_te_2024]).reset_index(drop=True)\n",
    "pred_all_2024.sort_values('OvRank', inplace=True)"
   ]
  },
  {
   "cell_type": "code",
   "execution_count": null,
   "id": "b01bf8b7-6adf-4362-ada9-e75ed0e1090c",
   "metadata": {
    "tags": []
   },
   "outputs": [],
   "source": [
    "# reordering and rounding columns\n",
    "new_order = ['OvRank', 'PosRank', 'Player', 'Year', 'Tm', 'FantPos', 'Age', 'PPR/G', 'PPR']\n",
    "pred_all_2024 = pred_all_2024[new_order].round(2)\n",
    "pred_qb_2024 = pred_qb_2024[new_order].round(2)\n",
    "pred_rb_2024 = pred_rb_2024[new_order].round(2)\n",
    "pred_wr_2024 = pred_wr_2024[new_order].round(2)\n",
    "pred_te_2024 = pred_te_2024[new_order].round(2)\n",
    "\n",
    "pred_all_2024.head()"
   ]
  },
  {
   "cell_type": "code",
   "execution_count": null,
   "id": "0bef3819-5c83-46eb-a36b-d323ebe585c7",
   "metadata": {
    "tags": []
   },
   "outputs": [],
   "source": [
    "pred_qb_2024.head()"
   ]
  },
  {
   "cell_type": "code",
   "execution_count": null,
   "id": "5faf6e30-f86c-4e37-8777-4064852b5de1",
   "metadata": {
    "tags": []
   },
   "outputs": [],
   "source": [
    "pred_rb_2024.head()"
   ]
  },
  {
   "cell_type": "code",
   "execution_count": null,
   "id": "0ef16093-00fe-42a4-b3a1-31871e736fa4",
   "metadata": {
    "tags": []
   },
   "outputs": [],
   "source": [
    "pred_wr_2024.head()"
   ]
  },
  {
   "cell_type": "code",
   "execution_count": null,
   "id": "1cc0e23b-32bc-4cdb-b176-c8c549d996c6",
   "metadata": {
    "tags": []
   },
   "outputs": [],
   "source": [
    "pred_te_2024.head()"
   ]
  },
  {
   "cell_type": "code",
   "execution_count": null,
   "id": "428627a0-d645-4d07-b1c4-61b3d40fa00e",
   "metadata": {
    "tags": []
   },
   "outputs": [],
   "source": [
    "# exporting to csv\n",
    "pred_all_2024.to_csv('all_players.csv', index=False)\n",
    "pred_qb_2024.to_csv('qbs.csv', index=False)\n",
    "pred_rb_2024.to_csv('rbs.csv', index=False)\n",
    "pred_wr_2024.to_csv('wrs.csv', index=False)\n",
    "pred_te_2024.to_csv('tes.csv', index=False)"
   ]
  },
  {
   "cell_type": "code",
   "execution_count": null,
   "id": "4a02eee8-5605-4026-adb0-ba34d0ac8bc8",
   "metadata": {
    "tags": []
   },
   "outputs": [],
   "source": [
    "conn.close()"
   ]
  },
  {
   "cell_type": "code",
   "execution_count": null,
   "id": "cdaa060f-d4d2-4f89-9d2b-571601bb2648",
   "metadata": {},
   "outputs": [],
   "source": []
  }
 ],
 "metadata": {
  "kernelspec": {
   "display_name": "Python 3 (ipykernel)",
   "language": "python",
   "name": "python3"
  },
  "language_info": {
   "codemirror_mode": {
    "name": "ipython",
    "version": 3
   },
   "file_extension": ".py",
   "mimetype": "text/x-python",
   "name": "python",
   "nbconvert_exporter": "python",
   "pygments_lexer": "ipython3",
   "version": "3.11.5"
  }
 },
 "nbformat": 4,
 "nbformat_minor": 5
}
